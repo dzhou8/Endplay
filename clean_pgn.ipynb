{
 "cells": [
  {
   "cell_type": "code",
   "execution_count": null,
   "id": "0dafca83-ddf4-460a-b72b-4dca0d8e4227",
   "metadata": {
    "scrolled": true
   },
   "outputs": [
    {
     "name": "stderr",
     "output_type": "stream",
     "text": [
      "Processing PGNs: 44games [00:00, 437.83games/s]"
     ]
    },
    {
     "name": "stdout",
     "output_type": "stream",
     "text": [
      "data/LumbrasGigaBase/LumbrasGigaBase 2024.pgn\n"
     ]
    },
    {
     "name": "stderr",
     "output_type": "stream",
     "text": [
      "Processing PGNs: 365567games [18:18, 368.71games/s]"
     ]
    }
   ],
   "source": [
    "import chess\n",
    "import chess.pgn\n",
    "import glob\n",
    "import os\n",
    "from tqdm import tqdm\n",
    "\n",
    "input_path = 'data/LumbrasGigaBase/*.pgn'\n",
    "output_path = 'data/5_less.pgn'\n",
    "\n",
    "num_games = 0\n",
    "endplay_games = 0\n",
    "\n",
    "with open(output_path, \"w\", encoding=\"utf-8\") as out_file:\n",
    "    for filepath in glob.glob(input_path):\n",
    "        pbar = tqdm(desc=\"Processing PGNs\", unit=\"games\")\n",
    "        print(filepath)\n",
    "        with open(filepath, encoding=\"utf-8\", errors=\"ignore\") as file:\n",
    "            while True:\n",
    "                game = chess.pgn.read_game(file)\n",
    "                if game is None:\n",
    "                    break\n",
    "                num_games += 1\n",
    "                pbar.update(1)\n",
    "                game.headers[\"Result\"]\n",
    "                final_board = game.end().board()\n",
    "                num_pieces = len(final_board.piece_map())\n",
    "                if (game.headers[\"Result\"] != \"1/2-1/2\") and (num_pieces <= 6):\n",
    "                    # print(game.headers[\"Result\"], num_pieces)\n",
    "                    # display(final_board)\n",
    "                    endplay_games += 1\n",
    "                    print(game, file=out_file)\n",
    "        \n",
    "            pbar.close()\n",
    "    \n",
    "print(num_games, endplay_games)"
   ]
  },
  {
   "cell_type": "code",
   "execution_count": null,
   "id": "3cbb5135-d5c2-4a08-a39b-3512bc5b9d96",
   "metadata": {},
   "outputs": [],
   "source": []
  }
 ],
 "metadata": {
  "kernelspec": {
   "display_name": "Python 3 (ipykernel)",
   "language": "python",
   "name": "python3"
  },
  "language_info": {
   "codemirror_mode": {
    "name": "ipython",
    "version": 3
   },
   "file_extension": ".py",
   "mimetype": "text/x-python",
   "name": "python",
   "nbconvert_exporter": "python",
   "pygments_lexer": "ipython3",
   "version": "3.10.16"
  }
 },
 "nbformat": 4,
 "nbformat_minor": 5
}
