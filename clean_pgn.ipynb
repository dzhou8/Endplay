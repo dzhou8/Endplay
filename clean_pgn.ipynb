{
 "cells": [
  {
   "cell_type": "code",
   "execution_count": 3,
   "id": "0dafca83-ddf4-460a-b72b-4dca0d8e4227",
   "metadata": {
    "scrolled": true
   },
   "outputs": [
    {
     "name": "stderr",
     "output_type": "stream",
     "text": [
      "Processing PGNs: 74games [00:00, 375.40games/s]"
     ]
    },
    {
     "name": "stdout",
     "output_type": "stream",
     "text": [
      "KingBase2019-pgn/KingBase2019-E60-E99.pgn\n"
     ]
    },
    {
     "name": "stderr",
     "output_type": "stream",
     "text": [
      "Processing PGNs: 44498games [01:35, 466.65games/s]\n",
      "Processing PGNs: 37games [00:00, 369.09games/s]"
     ]
    },
    {
     "name": "stdout",
     "output_type": "stream",
     "text": [
      "KingBase2019-pgn/KingBase2019-A80-A99.pgn\n"
     ]
    },
    {
     "name": "stderr",
     "output_type": "stream",
     "text": [
      "Processing PGNs: 41320games [01:22, 502.25games/s]\n",
      "Processing PGNs: 102games [00:00, 510.56games/s]"
     ]
    },
    {
     "name": "stdout",
     "output_type": "stream",
     "text": [
      "KingBase2019-pgn/KingBase2019-A00-A39.pgn\n"
     ]
    },
    {
     "name": "stderr",
     "output_type": "stream",
     "text": [
      "Processing PGNs: 39754games [01:27, 455.66games/s]\n",
      "Processing PGNs: 51games [00:00, 497.46games/s]"
     ]
    },
    {
     "name": "stdout",
     "output_type": "stream",
     "text": [
      "KingBase2019-pgn/KingBase2019-E20-E59.pgn\n"
     ]
    },
    {
     "name": "stderr",
     "output_type": "stream",
     "text": [
      "Processing PGNs: 45566games [01:31, 498.51games/s]\n",
      "Processing PGNs: 89games [00:00, 438.15games/s]"
     ]
    },
    {
     "name": "stdout",
     "output_type": "stream",
     "text": [
      "KingBase2019-pgn/KingBase2019-E00-E19.pgn\n"
     ]
    },
    {
     "name": "stderr",
     "output_type": "stream",
     "text": [
      "Processing PGNs: 42917games [01:30, 475.07games/s]\n",
      "Processing PGNs: 73games [00:00, 371.82games/s]"
     ]
    },
    {
     "name": "stdout",
     "output_type": "stream",
     "text": [
      "KingBase2019-pgn/KingBase2019-B20-B49.pgn\n"
     ]
    },
    {
     "name": "stderr",
     "output_type": "stream",
     "text": [
      "Processing PGNs: 41374games [01:28, 467.82games/s]\n",
      "Processing PGNs: 85games [00:00, 427.95games/s]"
     ]
    },
    {
     "name": "stdout",
     "output_type": "stream",
     "text": [
      "KingBase2019-pgn/KingBase2019-C00-C19.pgn\n"
     ]
    },
    {
     "name": "stderr",
     "output_type": "stream",
     "text": [
      "Processing PGNs: 42049games [01:27, 479.59games/s]\n",
      "Processing PGNs: 80games [00:00, 414.00games/s]"
     ]
    },
    {
     "name": "stdout",
     "output_type": "stream",
     "text": [
      "KingBase2019-pgn/KingBase2019-D70-D99.pgn\n"
     ]
    },
    {
     "name": "stderr",
     "output_type": "stream",
     "text": [
      "Processing PGNs: 44463games [01:32, 480.15games/s]\n",
      "Processing PGNs: 46games [00:00, 455.90games/s]"
     ]
    },
    {
     "name": "stdout",
     "output_type": "stream",
     "text": [
      "KingBase2019-pgn/KingBase2019-B50-B99.pgn\n"
     ]
    },
    {
     "name": "stderr",
     "output_type": "stream",
     "text": [
      "Processing PGNs: 41538games [01:30, 456.49games/s]\n",
      "Processing PGNs: 50games [00:00, 495.49games/s]"
     ]
    },
    {
     "name": "stdout",
     "output_type": "stream",
     "text": [
      "KingBase2019-pgn/KingBase2019-C60-C99.pgn\n"
     ]
    },
    {
     "name": "stderr",
     "output_type": "stream",
     "text": [
      "Processing PGNs: 42733games [01:35, 446.05games/s]\n",
      "Processing PGNs: 85games [00:00, 419.87games/s]"
     ]
    },
    {
     "name": "stdout",
     "output_type": "stream",
     "text": [
      "KingBase2019-pgn/KingBase2019-A40-A79.pgn\n"
     ]
    },
    {
     "name": "stderr",
     "output_type": "stream",
     "text": [
      "Processing PGNs: 39768games [01:29, 442.41games/s]\n",
      "Processing PGNs: 47games [00:00, 461.80games/s]"
     ]
    },
    {
     "name": "stdout",
     "output_type": "stream",
     "text": [
      "KingBase2019-pgn/KingBase2019-D00-D29.pgn\n"
     ]
    },
    {
     "name": "stderr",
     "output_type": "stream",
     "text": [
      "Processing PGNs: 44988games [01:40, 449.34games/s]\n",
      "Processing PGNs: 88games [00:00, 437.88games/s]"
     ]
    },
    {
     "name": "stdout",
     "output_type": "stream",
     "text": [
      "KingBase2019-pgn/KingBase2019-B00-B19.pgn\n"
     ]
    },
    {
     "name": "stderr",
     "output_type": "stream",
     "text": [
      "Processing PGNs: 40081games [01:28, 451.85games/s]\n",
      "Processing PGNs: 74games [00:00, 374.44games/s]"
     ]
    },
    {
     "name": "stdout",
     "output_type": "stream",
     "text": [
      "KingBase2019-pgn/KingBase2019-C20-C59.pgn\n"
     ]
    },
    {
     "name": "stderr",
     "output_type": "stream",
     "text": [
      "Processing PGNs: 42086games [01:28, 477.24games/s]\n",
      "Processing PGNs: 85games [00:00, 425.05games/s]"
     ]
    },
    {
     "name": "stdout",
     "output_type": "stream",
     "text": [
      "KingBase2019-pgn/KingBase2019-D30-D69.pgn\n"
     ]
    },
    {
     "name": "stderr",
     "output_type": "stream",
     "text": [
      "Processing PGNs: 43383games [01:32, 469.74games/s]"
     ]
    },
    {
     "name": "stdout",
     "output_type": "stream",
     "text": [
      "636518 12904\n"
     ]
    },
    {
     "name": "stderr",
     "output_type": "stream",
     "text": [
      "\n"
     ]
    }
   ],
   "source": [
    "import chess\n",
    "import chess.pgn\n",
    "import glob\n",
    "import os\n",
    "from tqdm import tqdm\n",
    "\n",
    "input_path = 'KingBase2019-pgn/*.pgn'\n",
    "output_path = 'data/5_less.pgn'\n",
    "\n",
    "num_games = 0\n",
    "endplay_games = 0\n",
    "\n",
    "with open(output_path, \"w\", encoding=\"utf-8\") as out_file:\n",
    "    for filepath in glob.glob(input_path):\n",
    "        pbar = tqdm(desc=\"Processing PGNs\", unit=\"games\")\n",
    "        print(filepath)\n",
    "        with open(filepath, encoding=\"utf-8\", errors=\"ignore\") as file:\n",
    "            while True:\n",
    "                game = chess.pgn.read_game(file)\n",
    "                if game is None:\n",
    "                    break\n",
    "                num_games += 1\n",
    "                pbar.update(1)\n",
    "                game.headers[\"Result\"]\n",
    "                final_board = game.end().board()\n",
    "                num_pieces = len(final_board.piece_map())\n",
    "                if (game.headers[\"Result\"] != \"1/2-1/2\") and (num_pieces <= 5):\n",
    "                    # print(game.headers[\"Result\"], num_pieces)\n",
    "                    # display(final_board)\n",
    "                    endplay_games += 1\n",
    "                    chess.pgn.write_game(out_file, game)\n",
    "        \n",
    "            pbar.close()\n",
    "    \n",
    "print(num_games, endplay_games)"
   ]
  },
  {
   "cell_type": "code",
   "execution_count": null,
   "id": "3cbb5135-d5c2-4a08-a39b-3512bc5b9d96",
   "metadata": {},
   "outputs": [],
   "source": []
  }
 ],
 "metadata": {
  "kernelspec": {
   "display_name": "Python 3 (ipykernel)",
   "language": "python",
   "name": "python3"
  },
  "language_info": {
   "codemirror_mode": {
    "name": "ipython",
    "version": 3
   },
   "file_extension": ".py",
   "mimetype": "text/x-python",
   "name": "python",
   "nbconvert_exporter": "python",
   "pygments_lexer": "ipython3",
   "version": "3.10.16"
  }
 },
 "nbformat": 4,
 "nbformat_minor": 5
}
