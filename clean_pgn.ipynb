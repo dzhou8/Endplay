{
 "cells": [
  {
   "cell_type": "code",
   "execution_count": 1,
   "id": "0dafca83-ddf4-460a-b72b-4dca0d8e4227",
   "metadata": {
    "scrolled": true
   },
   "outputs": [
    {
     "name": "stdout",
     "output_type": "stream",
     "text": [
      "Processing: data/LumbrasGigaBase/LumbrasGigaBase_2024_batch_0.pgn\n"
     ]
    },
    {
     "name": "stderr",
     "output_type": "stream",
     "text": [
      "Processing PGNs: 100000games [04:07, 404.78games/s]"
     ]
    },
    {
     "name": "stdout",
     "output_type": "stream",
     "text": [
      "Total games processed: 100000\n",
      "Endgame samples saved: 12436\n"
     ]
    },
    {
     "name": "stderr",
     "output_type": "stream",
     "text": [
      "\n"
     ]
    }
   ],
   "source": [
    "import chess\n",
    "import chess.pgn\n",
    "import glob\n",
    "import os\n",
    "from tqdm import tqdm\n",
    "\n",
    "input_path = 'data/LumbrasGigaBase/LumbrasGigaBase_2024_batch_*.pgn'\n",
    "output_path = 'data/6_less.pgn'\n",
    "\n",
    "num_games = 0\n",
    "endplay_games = 0\n",
    "\n",
    "with open(output_path, \"w\", encoding=\"utf-8\") as out_file:\n",
    "    for filepath in glob.glob(input_path):\n",
    "        print(f\"Processing: {filepath}\")\n",
    "        with open(filepath, encoding=\"utf-8\", errors=\"ignore\") as file:\n",
    "            pbar = tqdm(desc=\"Processing PGNs\", unit=\"games\")\n",
    "            while True:\n",
    "                game = chess.pgn.read_game(file)\n",
    "                if game is None:\n",
    "                    break\n",
    "                num_games += 1\n",
    "                pbar.update(1)\n",
    "\n",
    "                try:\n",
    "                    game.headers[\"Result\"]\n",
    "                    final_board = game.end().board()\n",
    "                    num_pieces = len(final_board.piece_map())\n",
    "\n",
    "                    if game.headers[\"Result\"] != \"1/2-1/2\" and num_pieces <= 6:\n",
    "                        endplay_games += 1\n",
    "                        exporter = chess.pgn.StringExporter(headers=True, variations=False, comments=False)\n",
    "                        pgn_string = game.accept(exporter)\n",
    "                        out_file.write(pgn_string.strip() + \"\\n\\n\")\n",
    "                except Exception as e:\n",
    "                    # optionally log or skip corrupt games\n",
    "                    continue\n",
    "\n",
    "            pbar.close()\n",
    "\n",
    "print(f\"Total games processed: {num_games}\")\n",
    "print(f\"Endgame samples saved: {endplay_games}\")"
   ]
  },
  {
   "cell_type": "code",
   "execution_count": null,
   "id": "4afe9dae",
   "metadata": {},
   "outputs": [],
   "source": []
  }
 ],
 "metadata": {
  "kernelspec": {
   "display_name": "Python 3 (ipykernel)",
   "language": "python",
   "name": "python3"
  },
  "language_info": {
   "codemirror_mode": {
    "name": "ipython",
    "version": 3
   },
   "file_extension": ".py",
   "mimetype": "text/x-python",
   "name": "python",
   "nbconvert_exporter": "python",
   "pygments_lexer": "ipython3",
   "version": "3.10.12"
  }
 },
 "nbformat": 4,
 "nbformat_minor": 5
}
