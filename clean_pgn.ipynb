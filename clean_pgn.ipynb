{
 "cells": [
  {
   "cell_type": "code",
   "execution_count": 1,
   "id": "0dafca83-ddf4-460a-b72b-4dca0d8e4227",
   "metadata": {
    "scrolled": true
   },
   "outputs": [
    {
     "name": "stderr",
     "output_type": "stream",
     "text": [
      "Processing PGNs: 42games [00:00, 418.98games/s]"
     ]
    },
    {
     "name": "stdout",
     "output_type": "stream",
     "text": [
      "data/LumbrasGigaBase/LumbrasGigaBase_2024_batch_15.pgn\n"
     ]
    },
    {
     "name": "stderr",
     "output_type": "stream",
     "text": [
      "Processing PGNs: 32475games [01:17, 323.35games/s]"
     ]
    },
    {
     "ename": "KeyboardInterrupt",
     "evalue": "",
     "output_type": "error",
     "traceback": [
      "\u001b[0;31m---------------------------------------------------------------------------\u001b[0m",
      "\u001b[0;31mKeyboardInterrupt\u001b[0m                         Traceback (most recent call last)",
      "Cell \u001b[0;32mIn[1], line 19\u001b[0m\n\u001b[1;32m     17\u001b[0m \u001b[38;5;28;01mwith\u001b[39;00m \u001b[38;5;28mopen\u001b[39m(filepath, encoding\u001b[38;5;241m=\u001b[39m\u001b[38;5;124m\"\u001b[39m\u001b[38;5;124mutf-8\u001b[39m\u001b[38;5;124m\"\u001b[39m, errors\u001b[38;5;241m=\u001b[39m\u001b[38;5;124m\"\u001b[39m\u001b[38;5;124mignore\u001b[39m\u001b[38;5;124m\"\u001b[39m) \u001b[38;5;28;01mas\u001b[39;00m file:\n\u001b[1;32m     18\u001b[0m     \u001b[38;5;28;01mwhile\u001b[39;00m (\u001b[38;5;28;01mTrue\u001b[39;00m):\n\u001b[0;32m---> 19\u001b[0m         game \u001b[38;5;241m=\u001b[39m \u001b[43mchess\u001b[49m\u001b[38;5;241;43m.\u001b[39;49m\u001b[43mpgn\u001b[49m\u001b[38;5;241;43m.\u001b[39;49m\u001b[43mread_game\u001b[49m\u001b[43m(\u001b[49m\u001b[43mfile\u001b[49m\u001b[43m)\u001b[49m\n\u001b[1;32m     21\u001b[0m         \u001b[38;5;28;01mif\u001b[39;00m game \u001b[38;5;129;01mis\u001b[39;00m \u001b[38;5;28;01mNone\u001b[39;00m:\n\u001b[1;32m     22\u001b[0m             \u001b[38;5;28;01mbreak\u001b[39;00m\n",
      "File \u001b[0;32m~/Desktop/Endplay/venv/lib/python3.10/site-packages/chess/pgn.py:1754\u001b[0m, in \u001b[0;36mread_game\u001b[0;34m(handle, Visitor)\u001b[0m\n\u001b[1;32m   1752\u001b[0m             \u001b[38;5;28;01melse\u001b[39;00m:\n\u001b[1;32m   1753\u001b[0m                 visitor\u001b[38;5;241m.\u001b[39mvisit_move(board_stack[\u001b[38;5;241m-\u001b[39m\u001b[38;5;241m1\u001b[39m], move)\n\u001b[0;32m-> 1754\u001b[0m                 \u001b[43mboard_stack\u001b[49m\u001b[43m[\u001b[49m\u001b[38;5;241;43m-\u001b[39;49m\u001b[38;5;241;43m1\u001b[39;49m\u001b[43m]\u001b[49m\u001b[38;5;241;43m.\u001b[39;49m\u001b[43mpush\u001b[49m\u001b[43m(\u001b[49m\u001b[43mmove\u001b[49m\u001b[43m)\u001b[49m\n\u001b[1;32m   1755\u001b[0m         visitor\u001b[38;5;241m.\u001b[39mvisit_board(board_stack[\u001b[38;5;241m-\u001b[39m\u001b[38;5;241m1\u001b[39m])\n\u001b[1;32m   1757\u001b[0m \u001b[38;5;28;01mif\u001b[39;00m fresh_line:\n",
      "File \u001b[0;32m~/Desktop/Endplay/venv/lib/python3.10/site-packages/chess/__init__.py:2423\u001b[0m, in \u001b[0;36mBoard.push\u001b[0;34m(self, move)\u001b[0m\n\u001b[1;32m   2421\u001b[0m \u001b[38;5;28;01mif\u001b[39;00m \u001b[38;5;129;01mnot\u001b[39;00m castling:\n\u001b[1;32m   2422\u001b[0m     was_promoted \u001b[38;5;241m=\u001b[39m \u001b[38;5;28mbool\u001b[39m(\u001b[38;5;28mself\u001b[39m\u001b[38;5;241m.\u001b[39mpromoted \u001b[38;5;241m&\u001b[39m to_bb)\n\u001b[0;32m-> 2423\u001b[0m     \u001b[38;5;28;43mself\u001b[39;49m\u001b[38;5;241;43m.\u001b[39;49m\u001b[43m_set_piece_at\u001b[49m\u001b[43m(\u001b[49m\u001b[43mmove\u001b[49m\u001b[38;5;241;43m.\u001b[39;49m\u001b[43mto_square\u001b[49m\u001b[43m,\u001b[49m\u001b[43m \u001b[49m\u001b[43mpiece_type\u001b[49m\u001b[43m,\u001b[49m\u001b[43m \u001b[49m\u001b[38;5;28;43mself\u001b[39;49m\u001b[38;5;241;43m.\u001b[39;49m\u001b[43mturn\u001b[49m\u001b[43m,\u001b[49m\u001b[43m \u001b[49m\u001b[43mpromoted\u001b[49m\u001b[43m)\u001b[49m\n\u001b[1;32m   2425\u001b[0m     \u001b[38;5;28;01mif\u001b[39;00m captured_piece_type:\n\u001b[1;32m   2426\u001b[0m         \u001b[38;5;28mself\u001b[39m\u001b[38;5;241m.\u001b[39m_push_capture(move, capture_square, captured_piece_type, was_promoted)\n",
      "File \u001b[0;32m~/Desktop/Endplay/venv/lib/python3.10/site-packages/chess/__init__.py:1052\u001b[0m, in \u001b[0;36mBaseBoard._set_piece_at\u001b[0;34m(self, square, piece_type, color, promoted)\u001b[0m\n\u001b[1;32m   1049\u001b[0m     piece_type \u001b[38;5;241m=\u001b[39m \u001b[38;5;28mself\u001b[39m\u001b[38;5;241m.\u001b[39m_remove_piece_at(square)\n\u001b[1;32m   1050\u001b[0m     \u001b[38;5;28;01mreturn\u001b[39;00m Piece(piece_type, color) \u001b[38;5;28;01mif\u001b[39;00m piece_type \u001b[38;5;28;01melse\u001b[39;00m \u001b[38;5;28;01mNone\u001b[39;00m\n\u001b[0;32m-> 1052\u001b[0m \u001b[38;5;28;01mdef\u001b[39;00m\u001b[38;5;250m \u001b[39m\u001b[38;5;21m_set_piece_at\u001b[39m(\u001b[38;5;28mself\u001b[39m, square: Square, piece_type: PieceType, color: Color, promoted: \u001b[38;5;28mbool\u001b[39m \u001b[38;5;241m=\u001b[39m \u001b[38;5;28;01mFalse\u001b[39;00m) \u001b[38;5;241m-\u001b[39m\u001b[38;5;241m>\u001b[39m \u001b[38;5;28;01mNone\u001b[39;00m:\n\u001b[1;32m   1053\u001b[0m     \u001b[38;5;28mself\u001b[39m\u001b[38;5;241m.\u001b[39m_remove_piece_at(square)\n\u001b[1;32m   1055\u001b[0m     mask \u001b[38;5;241m=\u001b[39m BB_SQUARES[square]\n",
      "\u001b[0;31mKeyboardInterrupt\u001b[0m: "
     ]
    },
    {
     "name": "stderr",
     "output_type": "stream",
     "text": [
      "Processing PGNs: 32508games [01:30, 323.35games/s]"
     ]
    }
   ],
   "source": [
    "import chess\n",
    "import chess.pgn\n",
    "import glob\n",
    "import os\n",
    "from tqdm import tqdm\n",
    "\n",
    "input_path = 'data/LumbrasGigaBase/LumbrasGigaBase_2024_batch_*.pgn'\n",
    "output_path = 'data/6_less.pgn'\n",
    "\n",
    "num_games = 0\n",
    "endplay_games = 0\n",
    "\n",
    "with open(output_path, \"w\", encoding=\"utf-8\") as out_file:\n",
    "    for filepath in glob.glob(input_path):\n",
    "        pbar = tqdm(desc=\"Processing PGNs\", unit=\"games\")\n",
    "        print(filepath)\n",
    "        with open(filepath, encoding=\"utf-8\", errors=\"ignore\") as file:\n",
    "            while (True):\n",
    "                game = chess.pgn.read_game(file)\n",
    "            \n",
    "                if game is None:\n",
    "                    break\n",
    "                num_games += 1\n",
    "                pbar.update(1)\n",
    "                game.headers[\"Result\"]\n",
    "                final_board = game.end().board()\n",
    "                num_pieces = len(final_board.piece_map())\n",
    "                if (game.headers[\"Result\"] != \"1/2-1/2\") and (num_pieces <= 6):\n",
    "                    # print(game.headers[\"Result\"], num_pieces)\n",
    "                    # display(final_board)\n",
    "                    endplay_games += 1\n",
    "                    print(game, file=out_file)\n",
    "        \n",
    "            pbar.close()\n",
    "    \n",
    "print(num_games, endplay_games)"
   ]
  },
  {
   "cell_type": "code",
   "execution_count": null,
   "id": "4afe9dae",
   "metadata": {},
   "outputs": [],
   "source": []
  }
 ],
 "metadata": {
  "kernelspec": {
   "display_name": "Python 3 (ipykernel)",
   "language": "python",
   "name": "python3"
  },
  "language_info": {
   "codemirror_mode": {
    "name": "ipython",
    "version": 3
   },
   "file_extension": ".py",
   "mimetype": "text/x-python",
   "name": "python",
   "nbconvert_exporter": "python",
   "pygments_lexer": "ipython3",
   "version": "3.10.12"
  }
 },
 "nbformat": 4,
 "nbformat_minor": 5
}
