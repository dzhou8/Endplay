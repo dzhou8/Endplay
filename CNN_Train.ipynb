{
 "cells": [
  {
   "cell_type": "markdown",
   "id": "beea2691-ff3c-418e-979e-b99cdcfaccf6",
   "metadata": {},
   "source": [
    "Step 1: Train/Test Split"
   ]
  },
  {
   "cell_type": "code",
   "execution_count": 3,
   "id": "03b6e3f4-09ce-43e4-904a-a9dee978e8f1",
   "metadata": {},
   "outputs": [
    {
     "ename": "ModuleNotFoundError",
     "evalue": "No module named 'sklearn'",
     "output_type": "error",
     "traceback": [
      "\u001b[0;31m---------------------------------------------------------------------------\u001b[0m",
      "\u001b[0;31mModuleNotFoundError\u001b[0m                       Traceback (most recent call last)",
      "Cell \u001b[0;32mIn[3], line 2\u001b[0m\n\u001b[1;32m      1\u001b[0m \u001b[38;5;28;01mimport\u001b[39;00m\u001b[38;5;250m \u001b[39m\u001b[38;5;21;01mnumpy\u001b[39;00m\u001b[38;5;250m \u001b[39m\u001b[38;5;28;01mas\u001b[39;00m\u001b[38;5;250m \u001b[39m\u001b[38;5;21;01mnp\u001b[39;00m\n\u001b[0;32m----> 2\u001b[0m \u001b[38;5;28;01mfrom\u001b[39;00m\u001b[38;5;250m \u001b[39m\u001b[38;5;21;01msklearn\u001b[39;00m\u001b[38;5;21;01m.\u001b[39;00m\u001b[38;5;21;01mmodel_selection\u001b[39;00m\u001b[38;5;250m \u001b[39m\u001b[38;5;28;01mimport\u001b[39;00m train_test_split\n\u001b[1;32m      4\u001b[0m data \u001b[38;5;241m=\u001b[39m np\u001b[38;5;241m.\u001b[39mload(\u001b[38;5;124m\"\u001b[39m\u001b[38;5;124mtraining_data.npz\u001b[39m\u001b[38;5;124m\"\u001b[39m)\n\u001b[1;32m      5\u001b[0m X \u001b[38;5;241m=\u001b[39m data[\u001b[38;5;124m\"\u001b[39m\u001b[38;5;124minputs\u001b[39m\u001b[38;5;124m\"\u001b[39m]\n",
      "\u001b[0;31mModuleNotFoundError\u001b[0m: No module named 'sklearn'"
     ]
    }
   ],
   "source": [
    "import numpy as np\n",
    "from sklearn.model_selection import train_test_split\n",
    "\n",
    "data = np.load(\"training_data.npz\")\n",
    "X = data[\"inputs\"]\n",
    "Y = data[\"outputs\"]\n",
    "\n",
    "X_train, X_test, Y_train, Y_test = train_test_split(X, Y, test_size=0.1, random_state=42)"
   ]
  },
  {
   "cell_type": "markdown",
   "id": "ddd5886b-04c3-4907-8423-24913c674a74",
   "metadata": {},
   "source": [
    "Step 2: CNN Architecture (Pytorch)"
   ]
  },
  {
   "cell_type": "code",
   "execution_count": null,
   "id": "c0adefcc-c887-48f2-a492-a2ae7e3c81f7",
   "metadata": {},
   "outputs": [],
   "source": [
    "import torch\n",
    "import torch.nn as nn\n",
    "\n",
    "class ChessMoveCNN(nn.Module):\n",
    "    def __init__(self):\n",
    "        super().__init__()\n",
    "        self.net = nn.Sequential(\n",
    "            nn.Conv2d(12, 32, kernel_size=3, padding=1),\n",
    "            nn.ReLU(),\n",
    "            nn.BatchNorm2d(32),\n",
    "            nn.Conv2d(32, 64, kernel_size=3, padding=1),\n",
    "            nn.ReLU(),\n",
    "            nn.BatchNorm2d(64),\n",
    "            nn.Conv2d(64, 2, kernel_size=1)  # 2 channels: start and end square\n",
    "        )\n",
    "\n",
    "    def forward(self, x):\n",
    "        return self.net(x)"
   ]
  },
  {
   "cell_type": "markdown",
   "id": "5f1a3ab7-ca3d-4bd4-9202-ecff8247a395",
   "metadata": {},
   "source": [
    "Step 3: Loss Function and Training Setup"
   ]
  },
  {
   "cell_type": "code",
   "execution_count": null,
   "id": "e65df48e-c96d-445c-8f1f-635248b71475",
   "metadata": {},
   "outputs": [],
   "source": [
    "from torch.utils.data import TensorDataset, DataLoader\n",
    "\n",
    "train_ds = TensorDataset(torch.tensor(X_train, dtype=torch.float32), torch.tensor(Y_train, dtype=torch.float32))\n",
    "test_ds  = TensorDataset(torch.tensor(X_test, dtype=torch.float32), torch.tensor(Y_test, dtype=torch.float32))\n",
    "\n",
    "train_loader = DataLoader(train_ds, batch_size=64, shuffle=True)\n",
    "test_loader  = DataLoader(test_ds, batch_size=64)\n",
    "\n",
    "device = torch.device(\"cuda\" if torch.cuda.is_available() else \"cpu\")\n",
    "model = ChessMoveCNN().to(device)\n",
    "loss_fn = nn.BCEWithLogitsLoss()\n",
    "optimizer = optim.Adam(model.parameters(), lr=1e-3)"
   ]
  },
  {
   "cell_type": "markdown",
   "id": "42000309-b8ce-4cf8-9be9-a7ca0472e0d5",
   "metadata": {},
   "source": [
    "Step 4: Training Loop"
   ]
  },
  {
   "cell_type": "code",
   "execution_count": null,
   "id": "4ab8cc34-7994-46d3-9874-b9f4a231b125",
   "metadata": {},
   "outputs": [],
   "source": [
    "train_losses = []\n",
    "test_losses = []\n",
    "epochs = 10\n",
    "\n",
    "for epoch in range(epochs):\n",
    "    model.train()\n",
    "    total_train_loss = 0\n",
    "\n",
    "    for xb, yb in train_loader:\n",
    "        xb, yb = xb.to(device), yb.to(device)\n",
    "        optimizer.zero_grad()\n",
    "        preds = model(xb)\n",
    "        loss = loss_fn(preds, yb)\n",
    "        loss.backward()\n",
    "        optimizer.step()\n",
    "        total_train_loss += loss.item()\n",
    "\n",
    "    avg_train_loss = total_train_loss / len(train_loader)\n",
    "    train_losses.append(avg_train_loss)\n",
    "\n",
    "    # Evaluation\n",
    "    model.eval()\n",
    "    total_test_loss = 0\n",
    "\n",
    "    with torch.no_grad():\n",
    "        for xb, yb in test_loader:\n",
    "            xb, yb = xb.to(device), yb.to(device)\n",
    "            preds = model(xb)\n",
    "            loss = loss_fn(preds, yb)\n",
    "            total_test_loss += loss.item()\n",
    "\n",
    "    avg_test_loss = total_test_loss / len(test_loader)\n",
    "    test_losses.append(avg_test_loss)\n",
    "\n",
    "    print(f\"Epoch {epoch+1}/{epochs} - Train Loss: {avg_train_loss:.4f} - Test Loss: {avg_test_loss:.4f}\")"
   ]
  },
  {
   "cell_type": "markdown",
   "id": "e077eade-fc30-4dcb-8565-20a000a39740",
   "metadata": {},
   "source": [
    "Step 5: Loss Plotting and Test Case Visualization"
   ]
  },
  {
   "cell_type": "code",
   "execution_count": null,
   "id": "6059c009-74d2-4a3d-b59d-a2b278be6583",
   "metadata": {},
   "outputs": [],
   "source": [
    "import matplotlib.pyplot as plt\n",
    "\n",
    "plt.plot(train_losses, label=\"Train Loss\")\n",
    "plt.plot(test_losses, label=\"Test Loss\")\n",
    "plt.xlabel(\"Epoch\")\n",
    "plt.ylabel(\"Loss\")\n",
    "plt.legend()\n",
    "plt.title(\"Training and Test Loss\")\n",
    "plt.show()\n",
    "\n",
    "import utils\n",
    "\n",
    "def get_top_5_moves(pred_tensor):\n",
    "    pred = torch.sigmoid(pred_tensor).cpu().numpy()  # shape (2, 8, 8)\n",
    "    start_flat = pred[0].flatten()\n",
    "    end_flat = pred[1].flatten()\n",
    "    \n",
    "    moves = []\n",
    "    for start in range(64):\n",
    "        for end in range(64):\n",
    "            score = start_flat[start] * end_flat[end]\n",
    "            moves.append((score, start, end))\n",
    "\n",
    "    top5 = sorted(moves, key=lambda x: -x[0])[:5]\n",
    "    return [(chess.square_name(s), chess.square_name(e), f\"{chess.square_name(s)}{chess.square_name(e)}\", float(score)) for score, s, e in top5]\n",
    "\n",
    "# Pick a test sample\n",
    "idx = np.random.randint(len(X_test))\n",
    "x = torch.tensor(X_test[idx:idx+1], dtype=torch.float32).to(device)\n",
    "y_pred = model(x)[0]  # shape: (2, 8, 8)\n",
    "\n",
    "board = utils.tensor_to_board(X_test[idx])\n",
    "top5_moves = get_top_5_moves(y_pred)\n",
    "\n",
    "print(\"Top 5 predicted moves (start, end, uci, score):\")\n",
    "for start, end, uci, score in top5_moves:\n",
    "    print(f\"{uci}: {score:.4f}\")"
   ]
  }
 ],
 "metadata": {
  "kernelspec": {
   "display_name": "Python 3 (ipykernel)",
   "language": "python",
   "name": "python3"
  },
  "language_info": {
   "codemirror_mode": {
    "name": "ipython",
    "version": 3
   },
   "file_extension": ".py",
   "mimetype": "text/x-python",
   "name": "python",
   "nbconvert_exporter": "python",
   "pygments_lexer": "ipython3",
   "version": "3.10.16"
  }
 },
 "nbformat": 4,
 "nbformat_minor": 5
}
