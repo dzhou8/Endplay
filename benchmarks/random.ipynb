{
 "cells": [
  {
   "cell_type": "code",
   "execution_count": null,
   "metadata": {},
   "outputs": [],
   "source": [
    "import bm_utils\n",
    "\n",
    "paths = [\"../preprocessing/tensors/2023_6less.npz\",\n",
    "         \"../preprocessing/tensors/2024_6less.npz\"]\n",
    "X_train, X_test, Y_train, Y_test = bm_utils.load_dataset(paths, test_size=0.05, random_state=42)\n",
    "print(len(X_train), len(X_test))"
   ]
  },
  {
   "cell_type": "code",
   "execution_count": null,
   "metadata": {},
   "outputs": [],
   "source": [
    "# benchmark to use\n",
    "import chess\n",
    "import random\n",
    "random.seed(42)\n",
    "\n",
    "# randomly picks 5 legal moves for a given board\n",
    "def random_predict(board):\n",
    "    legal_moves = list(board.legal_moves)\n",
    "    top5_moves = []\n",
    "    if len(legal_moves) <= 5:\n",
    "        top5_moves = legal_moves\n",
    "    else:\n",
    "        top5_moves = random.sample(legal_moves, 5)\n",
    "    \n",
    "    return top5_moves"
   ]
  },
  {
   "cell_type": "code",
   "execution_count": null,
   "metadata": {},
   "outputs": [],
   "source": [
    "bm_utils.evaluate(X_test, Y_test, random_predict)"
   ]
  },
  {
   "cell_type": "code",
   "execution_count": null,
   "metadata": {},
   "outputs": [],
   "source": []
  }
 ],
 "metadata": {
  "kernelspec": {
   "display_name": "venv",
   "language": "python",
   "name": "python3"
  },
  "language_info": {
   "codemirror_mode": {
    "name": "ipython",
    "version": 3
   },
   "file_extension": ".py",
   "mimetype": "text/x-python",
   "name": "python",
   "nbconvert_exporter": "python",
   "pygments_lexer": "ipython3",
   "version": "3.10.12"
  }
 },
 "nbformat": 4,
 "nbformat_minor": 2
}
