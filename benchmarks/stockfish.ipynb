{
 "cells": [
  {
   "cell_type": "code",
   "execution_count": null,
   "metadata": {},
   "outputs": [],
   "source": [
    "import bm_utils\n",
    "\n",
    "paths = [\"../preprocessing/tensors/2023_6less.npz\",\n",
    "         \"../preprocessing/tensors/2024_6less.npz\"]\n",
    "X_train, X_test, Y_train, Y_test = bm_utils.load_dataset(paths, test_size=0.05, random_state=42)\n",
    "print(len(X_train), len(X_test))"
   ]
  },
  {
   "cell_type": "code",
   "execution_count": null,
   "metadata": {},
   "outputs": [],
   "source": [
    "# benchmark to use\n",
    "import chess\n",
    "from stockfish import Stockfish\n",
    "\n",
    "stockfish = Stockfish(path=\"../bin/stockfish_20011801_x64\")\n",
    "\n",
    "# picks the top 5 stockfish moves\n",
    "def stockfish_predict(board):\n",
    "    stockfish.set_fen_position(board.fen())\n",
    "    top5_moves = stockfish.get_top_moves(5)\n",
    "    top5_moves = [chess.Move.from_uci(stockfish_data['Move']) for stockfish_data in top5_moves]\n",
    "\n",
    "    return top5_moves"
   ]
  },
  {
   "cell_type": "code",
   "execution_count": null,
   "metadata": {},
   "outputs": [],
   "source": [
    "bm_utils.evaluate(X_test, Y_test, stockfish_predict)"
   ]
  },
  {
   "cell_type": "code",
   "execution_count": null,
   "metadata": {},
   "outputs": [],
   "source": []
  }
 ],
 "metadata": {
  "kernelspec": {
   "display_name": "venv",
   "language": "python",
   "name": "python3"
  },
  "language_info": {
   "codemirror_mode": {
    "name": "ipython",
    "version": 3
   },
   "file_extension": ".py",
   "mimetype": "text/x-python",
   "name": "python",
   "nbconvert_exporter": "python",
   "pygments_lexer": "ipython3",
   "version": "3.10.12"
  }
 },
 "nbformat": 4,
 "nbformat_minor": 2
}
