{
 "cells": [
  {
   "cell_type": "code",
   "execution_count": 1,
   "metadata": {},
   "outputs": [
    {
     "name": "stdout",
     "output_type": "stream",
     "text": [
      "54931 6104\n"
     ]
    }
   ],
   "source": [
    "import bm_utils\n",
    "\n",
    "paths = [\"../../preprocessing/2023_6less.npz\"]\n",
    "X_train, X_test, Y_train, Y_test = bm_utils.load_dataset(paths, test_size=0.1, random_state=42)\n",
    "print(len(X_train), len(X_test))"
   ]
  },
  {
   "cell_type": "code",
   "execution_count": 2,
   "metadata": {},
   "outputs": [],
   "source": [
    "# benchmark to use\n",
    "import chess\n",
    "from stockfish import Stockfish\n",
    "\n",
    "stockfish = Stockfish(path=\"../../bin/stockfish_14_x64_popcnt\")\n",
    "\n",
    "# picks the top 5 stockfish moves\n",
    "def stockfish_predict(board):\n",
    "    stockfish.set_fen_position(board.fen())\n",
    "    top5_moves = stockfish.get_top_moves(5)\n",
    "    top5_moves = [chess.Move.from_uci(stockfish_data['Move']) for stockfish_data in top5_moves]\n",
    "\n",
    "    return top5_moves"
   ]
  },
  {
   "cell_type": "code",
   "execution_count": 3,
   "metadata": {},
   "outputs": [
    {
     "name": "stderr",
     "output_type": "stream",
     "text": [
      "  1%|          | 50/6104 [00:07<14:22,  7.02it/s]\n"
     ]
    },
    {
     "ename": "KeyboardInterrupt",
     "evalue": "",
     "output_type": "error",
     "traceback": [
      "\u001b[0;31m---------------------------------------------------------------------------\u001b[0m",
      "\u001b[0;31mKeyboardInterrupt\u001b[0m                         Traceback (most recent call last)",
      "Cell \u001b[0;32mIn[3], line 1\u001b[0m\n\u001b[0;32m----> 1\u001b[0m \u001b[43mbm_utils\u001b[49m\u001b[38;5;241;43m.\u001b[39;49m\u001b[43mevaluate\u001b[49m\u001b[43m(\u001b[49m\u001b[43mX_test\u001b[49m\u001b[43m,\u001b[49m\u001b[43m \u001b[49m\u001b[43mY_test\u001b[49m\u001b[43m,\u001b[49m\u001b[43m \u001b[49m\u001b[43mstockfish_predict\u001b[49m\u001b[43m)\u001b[49m\n",
      "File \u001b[0;32m~/Desktop/Endplay/model/benchmark/bm_utils.py:39\u001b[0m, in \u001b[0;36mevaluate\u001b[0;34m(X_test, Y_test, predict_fn)\u001b[0m\n\u001b[1;32m     37\u001b[0m \u001b[38;5;28;01mfor\u001b[39;00m i \u001b[38;5;129;01min\u001b[39;00m tqdm(\u001b[38;5;28mrange\u001b[39m(num_samples)):\n\u001b[1;32m     38\u001b[0m     x \u001b[38;5;241m=\u001b[39m torch\u001b[38;5;241m.\u001b[39mtensor(X_test[i], dtype\u001b[38;5;241m=\u001b[39mtorch\u001b[38;5;241m.\u001b[39mfloat32)\u001b[38;5;241m.\u001b[39mto(device)\n\u001b[0;32m---> 39\u001b[0m     board \u001b[38;5;241m=\u001b[39m \u001b[43mutils\u001b[49m\u001b[38;5;241;43m.\u001b[39;49m\u001b[43mtensor_to_board\u001b[49m\u001b[43m(\u001b[49m\u001b[43mx\u001b[49m\u001b[43m)\u001b[49m\n\u001b[1;32m     41\u001b[0m     y_true \u001b[38;5;241m=\u001b[39m Y_test[i]\n\u001b[1;32m     42\u001b[0m     start_idx \u001b[38;5;241m=\u001b[39m np\u001b[38;5;241m.\u001b[39margmax(y_true[\u001b[38;5;241m0\u001b[39m]\u001b[38;5;241m.\u001b[39mflatten())\n",
      "File \u001b[0;32m~/Desktop/Endplay/model/benchmark/../../preprocessing/utils.py:70\u001b[0m, in \u001b[0;36mtensor_to_board\u001b[0;34m(x)\u001b[0m\n\u001b[1;32m     68\u001b[0m \u001b[38;5;28;01mfor\u001b[39;00m row \u001b[38;5;129;01min\u001b[39;00m \u001b[38;5;28mrange\u001b[39m(\u001b[38;5;241m8\u001b[39m):\n\u001b[1;32m     69\u001b[0m     \u001b[38;5;28;01mfor\u001b[39;00m col \u001b[38;5;129;01min\u001b[39;00m \u001b[38;5;28mrange\u001b[39m(\u001b[38;5;241m8\u001b[39m):\n\u001b[0;32m---> 70\u001b[0m         \u001b[38;5;28;01mif\u001b[39;00m x[i, row, col] \u001b[38;5;241m==\u001b[39m \u001b[38;5;241m1\u001b[39m:\n\u001b[1;32m     71\u001b[0m             rank \u001b[38;5;241m=\u001b[39m row\n\u001b[1;32m     72\u001b[0m             file \u001b[38;5;241m=\u001b[39m col\n",
      "\u001b[0;31mKeyboardInterrupt\u001b[0m: "
     ]
    }
   ],
   "source": [
    "bm_utils.evaluate(X_test, Y_test, stockfish_predict)"
   ]
  },
  {
   "cell_type": "code",
   "execution_count": null,
   "metadata": {},
   "outputs": [],
   "source": []
  }
 ],
 "metadata": {
  "kernelspec": {
   "display_name": "venv",
   "language": "python",
   "name": "python3"
  },
  "language_info": {
   "codemirror_mode": {
    "name": "ipython",
    "version": 3
   },
   "file_extension": ".py",
   "mimetype": "text/x-python",
   "name": "python",
   "nbconvert_exporter": "python",
   "pygments_lexer": "ipython3",
   "version": "3.10.12"
  }
 },
 "nbformat": 4,
 "nbformat_minor": 2
}
