{
 "cells": [
  {
   "cell_type": "code",
   "execution_count": null,
   "id": "893fbf4e-3e41-44d3-bfb1-3e6bec551c0d",
   "metadata": {},
   "outputs": [],
   "source": [
    "import chess\n",
    "import chess.pgn\n",
    "import glob\n",
    "import numpy as np\n",
    "import utils"
   ]
  },
  {
   "cell_type": "code",
   "execution_count": null,
   "id": "447ae348",
   "metadata": {},
   "outputs": [],
   "source": [
    "from stockfish import Stockfish\n",
    "stockfish = Stockfish(path=\"../bin/stockfish_20011801_x64\")\n",
    "\n",
    "path = './2024_6less.pgn'\n",
    "\n",
    "num_games = 0\n",
    "endplay_games = 0\n",
    "\n",
    "inputs = []\n",
    "outputs = []\n",
    "\n",
    "for filepath in glob.glob(path):\n",
    "    with open(filepath, encoding=\"utf-8\", errors=\"ignore\") as file:\n",
    "        while (True):\n",
    "            game = chess.pgn.read_game(file)\n",
    "            if game is None:\n",
    "                break\n",
    "            num_games += 1\n",
    "            if (num_games % 500) == 0:\n",
    "                print(num_games)\n",
    "            final_board = game.end().board()\n",
    "            num_pieces = len(final_board.piece_map())\n",
    "            if (game.headers[\"Result\"] == \"1-0\"): # just look at white wins for now, as convention\n",
    "                end_node = game.end()\n",
    "                node = end_node\n",
    "                for _ in range(10): # go back 10 plies\n",
    "                    node = node.parent\n",
    "                if node.board().turn == chess.WHITE:\n",
    "                    node = node.parent\n",
    "                if (len(list(node.board().legal_moves)) == 1) or (utils.get_material_imbalance(node.board()) > 15):\n",
    "                    continue\n",
    "                stockfish.set_fen_position(node.board().fen())\n",
    "                evaluation = stockfish.get_evaluation()\n",
    "                if ((evaluation['type'] == 'cp') and (evaluation['value']) > 300) or \\\n",
    "                    ((evaluation['type'] == \"mate\") and (evaluation['value'] > 0)): # white is winning\n",
    "                    x = utils.board_to_tensor(node.board())\n",
    "                    y = utils.move_to_tensor(node.variations[0].move)\n",
    "                    inputs.append(x)\n",
    "                    outputs.append(y)\n",
    "                    endplay_games += 1\n",
    "\n",
    "print(num_games, endplay_games)"
   ]
  },
  {
   "cell_type": "code",
   "execution_count": null,
   "id": "dfff5b99",
   "metadata": {},
   "outputs": [],
   "source": [
    "X = np.stack(inputs)\n",
    "Y = np.stack(outputs)\n",
    "\n",
    "np.savez_compressed(\"./tensors/2024_6less.npz\", inputs=X, outputs=Y)"
   ]
  },
  {
   "cell_type": "markdown",
   "id": "693d49fe",
   "metadata": {},
   "source": [
    "Loading NPZ to verify. Rebuild the original board and move"
   ]
  },
  {
   "cell_type": "code",
   "execution_count": null,
   "id": "d5ac6179",
   "metadata": {},
   "outputs": [],
   "source": [
    "data = np.load(\"./tensors/2024_6less.npz\")\n",
    "X = data['inputs']\n",
    "Y = data['outputs']"
   ]
  },
  {
   "cell_type": "code",
   "execution_count": null,
   "id": "8bce91c4",
   "metadata": {},
   "outputs": [],
   "source": [
    "for idx in range(5):\n",
    "    x = X[idx]\n",
    "    y = Y[idx]\n",
    "    board = utils.tensor_to_board(x)\n",
    "    move = utils.tensor_to_move(y)\n",
    "    display(board)\n",
    "    print(move)"
   ]
  },
  {
   "cell_type": "code",
   "execution_count": null,
   "id": "363261dd",
   "metadata": {},
   "outputs": [],
   "source": []
  }
 ],
 "metadata": {
  "kernelspec": {
   "display_name": "Python 3 (ipykernel)",
   "language": "python",
   "name": "python3"
  },
  "language_info": {
   "codemirror_mode": {
    "name": "ipython",
    "version": 3
   },
   "file_extension": ".py",
   "mimetype": "text/x-python",
   "name": "python",
   "nbconvert_exporter": "python",
   "pygments_lexer": "ipython3",
   "version": "3.10.12"
  }
 },
 "nbformat": 4,
 "nbformat_minor": 5
}
