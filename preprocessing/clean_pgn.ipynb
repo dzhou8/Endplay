{
 "cells": [
  {
   "cell_type": "code",
   "execution_count": 2,
   "id": "0dafca83-ddf4-460a-b72b-4dca0d8e4227",
   "metadata": {
    "scrolled": true
   },
   "outputs": [
    {
     "name": "stdout",
     "output_type": "stream",
     "text": [
      "Processing: data/LumbrasGigaBase/LumbrasGigaBase_2024_batch_15.pgn\n"
     ]
    },
    {
     "name": "stderr",
     "output_type": "stream",
     "text": [
      "Processing PGNs: 100000games [03:55, 423.81games/s]\n"
     ]
    },
    {
     "name": "stdout",
     "output_type": "stream",
     "text": [
      "Processing: data/LumbrasGigaBase/LumbrasGigaBase_2024_batch_4.pgn\n"
     ]
    },
    {
     "name": "stderr",
     "output_type": "stream",
     "text": [
      "Processing PGNs: 100000games [03:52, 429.95games/s]\n"
     ]
    },
    {
     "name": "stdout",
     "output_type": "stream",
     "text": [
      "Processing: data/LumbrasGigaBase/LumbrasGigaBase_2024_batch_5.pgn\n"
     ]
    },
    {
     "name": "stderr",
     "output_type": "stream",
     "text": [
      "Processing PGNs: 100000games [04:08, 402.75games/s]\n"
     ]
    },
    {
     "name": "stdout",
     "output_type": "stream",
     "text": [
      "Processing: data/LumbrasGigaBase/LumbrasGigaBase_2024_batch_17.pgn\n"
     ]
    },
    {
     "name": "stderr",
     "output_type": "stream",
     "text": [
      "Processing PGNs: 100000games [04:05, 407.13games/s]\n"
     ]
    },
    {
     "name": "stdout",
     "output_type": "stream",
     "text": [
      "Processing: data/LumbrasGigaBase/LumbrasGigaBase_2024_batch_10.pgn\n"
     ]
    },
    {
     "name": "stderr",
     "output_type": "stream",
     "text": [
      "Processing PGNs: 100000games [03:57, 421.00games/s]\n"
     ]
    },
    {
     "name": "stdout",
     "output_type": "stream",
     "text": [
      "Processing: data/LumbrasGigaBase/LumbrasGigaBase_2024_batch_14.pgn\n"
     ]
    },
    {
     "name": "stderr",
     "output_type": "stream",
     "text": [
      "Processing PGNs: 100000games [04:10, 399.23games/s]\n"
     ]
    },
    {
     "name": "stdout",
     "output_type": "stream",
     "text": [
      "Processing: data/LumbrasGigaBase/LumbrasGigaBase_2024_batch_13.pgn\n"
     ]
    },
    {
     "name": "stderr",
     "output_type": "stream",
     "text": [
      "Processing PGNs: 100000games [04:02, 412.33games/s]\n"
     ]
    },
    {
     "name": "stdout",
     "output_type": "stream",
     "text": [
      "Processing: data/LumbrasGigaBase/LumbrasGigaBase_2024_batch_2.pgn\n"
     ]
    },
    {
     "name": "stderr",
     "output_type": "stream",
     "text": [
      "Processing PGNs: 100000games [04:12, 396.67games/s]\n"
     ]
    },
    {
     "name": "stdout",
     "output_type": "stream",
     "text": [
      "Processing: data/LumbrasGigaBase/LumbrasGigaBase_2024_batch_7.pgn\n"
     ]
    },
    {
     "name": "stderr",
     "output_type": "stream",
     "text": [
      "Processing PGNs: 100000games [04:04, 408.36games/s]\n"
     ]
    },
    {
     "name": "stdout",
     "output_type": "stream",
     "text": [
      "Processing: data/LumbrasGigaBase/LumbrasGigaBase_2024_batch_12.pgn\n"
     ]
    },
    {
     "name": "stderr",
     "output_type": "stream",
     "text": [
      "Processing PGNs: 100000games [04:14, 392.57games/s]\n"
     ]
    },
    {
     "name": "stdout",
     "output_type": "stream",
     "text": [
      "Processing: data/LumbrasGigaBase/LumbrasGigaBase_2024_batch_1.pgn\n"
     ]
    },
    {
     "name": "stderr",
     "output_type": "stream",
     "text": [
      "Processing PGNs: 100000games [04:00, 414.99games/s]\n"
     ]
    },
    {
     "name": "stdout",
     "output_type": "stream",
     "text": [
      "Processing: data/LumbrasGigaBase/LumbrasGigaBase_2024_batch_3.pgn\n"
     ]
    },
    {
     "name": "stderr",
     "output_type": "stream",
     "text": [
      "Processing PGNs: 100000games [04:05, 408.05games/s]\n"
     ]
    },
    {
     "name": "stdout",
     "output_type": "stream",
     "text": [
      "Processing: data/LumbrasGigaBase/LumbrasGigaBase_2024_batch_6.pgn\n"
     ]
    },
    {
     "name": "stderr",
     "output_type": "stream",
     "text": [
      "Processing PGNs: 100000games [03:52, 430.18games/s]\n"
     ]
    },
    {
     "name": "stdout",
     "output_type": "stream",
     "text": [
      "Processing: data/LumbrasGigaBase/LumbrasGigaBase_2024_batch_18.pgn\n"
     ]
    },
    {
     "name": "stderr",
     "output_type": "stream",
     "text": [
      "Processing PGNs: 100000games [04:02, 412.99games/s]\n"
     ]
    },
    {
     "name": "stdout",
     "output_type": "stream",
     "text": [
      "Processing: data/LumbrasGigaBase/LumbrasGigaBase_2024_batch_19.pgn\n"
     ]
    },
    {
     "name": "stderr",
     "output_type": "stream",
     "text": [
      "Processing PGNs: 68424games [02:51, 398.69games/s]\n"
     ]
    },
    {
     "name": "stdout",
     "output_type": "stream",
     "text": [
      "Processing: data/LumbrasGigaBase/LumbrasGigaBase_2024_batch_9.pgn\n"
     ]
    },
    {
     "name": "stderr",
     "output_type": "stream",
     "text": [
      "Processing PGNs: 100000games [04:01, 414.88games/s]\n"
     ]
    },
    {
     "name": "stdout",
     "output_type": "stream",
     "text": [
      "Processing: data/LumbrasGigaBase/LumbrasGigaBase_2024_batch_11.pgn\n"
     ]
    },
    {
     "name": "stderr",
     "output_type": "stream",
     "text": [
      "Processing PGNs: 100000games [04:00, 416.32games/s]\n"
     ]
    },
    {
     "name": "stdout",
     "output_type": "stream",
     "text": [
      "Processing: data/LumbrasGigaBase/LumbrasGigaBase_2024_batch_0.pgn\n"
     ]
    },
    {
     "name": "stderr",
     "output_type": "stream",
     "text": [
      "Processing PGNs: 100000games [04:06, 405.53games/s]\n"
     ]
    },
    {
     "name": "stdout",
     "output_type": "stream",
     "text": [
      "Processing: data/LumbrasGigaBase/LumbrasGigaBase_2024_batch_16.pgn\n"
     ]
    },
    {
     "name": "stderr",
     "output_type": "stream",
     "text": [
      "Processing PGNs: 100000games [03:58, 418.69games/s]\n"
     ]
    },
    {
     "name": "stdout",
     "output_type": "stream",
     "text": [
      "Processing: data/LumbrasGigaBase/LumbrasGigaBase_2024_batch_8.pgn\n"
     ]
    },
    {
     "name": "stderr",
     "output_type": "stream",
     "text": [
      "Processing PGNs: 100000games [03:53, 428.79games/s]"
     ]
    },
    {
     "name": "stdout",
     "output_type": "stream",
     "text": [
      "Total games processed: 1968424\n",
      "Endgame samples saved: 224341\n"
     ]
    },
    {
     "name": "stderr",
     "output_type": "stream",
     "text": [
      "\n"
     ]
    }
   ],
   "source": [
    "import chess\n",
    "import chess.pgn\n",
    "import glob\n",
    "import os\n",
    "from tqdm import tqdm\n",
    "\n",
    "input_path = '../data/LumbrasGigaBase/LumbrasGigaBase_2024_batch_*.pgn'\n",
    "output_path = './2024_6less.pgn'\n",
    "\n",
    "num_games = 0\n",
    "endplay_games = 0\n",
    "\n",
    "with open(output_path, \"w\", encoding=\"utf-8\") as out_file:\n",
    "    for filepath in glob.glob(input_path):\n",
    "        print(f\"Processing: {filepath}\")\n",
    "        with open(filepath, encoding=\"utf-8\", errors=\"ignore\") as file:\n",
    "            pbar = tqdm(desc=\"Processing PGNs\", unit=\"games\")\n",
    "            while True:\n",
    "                game = chess.pgn.read_game(file)\n",
    "                if game is None:\n",
    "                    break\n",
    "                num_games += 1\n",
    "                pbar.update(1)\n",
    "\n",
    "                try:\n",
    "                    game.headers[\"Result\"]\n",
    "                    final_board = game.end().board()\n",
    "                    num_pieces = len(final_board.piece_map())\n",
    "\n",
    "                    if game.headers[\"Result\"] != \"1/2-1/2\" and num_pieces <= 6:\n",
    "                        endplay_games += 1\n",
    "                        exporter = chess.pgn.StringExporter(headers=True, variations=False, comments=False)\n",
    "                        pgn_string = game.accept(exporter)\n",
    "                        out_file.write(pgn_string.strip() + \"\\n\\n\")\n",
    "                except Exception as e:\n",
    "                    # optionally log or skip corrupt games\n",
    "                    continue\n",
    "\n",
    "            pbar.close()\n",
    "\n",
    "print(f\"Total games processed: {num_games}\")\n",
    "print(f\"Endgame samples saved: {endplay_games}\")"
   ]
  },
  {
   "cell_type": "code",
   "execution_count": null,
   "id": "4afe9dae",
   "metadata": {},
   "outputs": [],
   "source": []
  }
 ],
 "metadata": {
  "kernelspec": {
   "display_name": "Python 3 (ipykernel)",
   "language": "python",
   "name": "python3"
  },
  "language_info": {
   "codemirror_mode": {
    "name": "ipython",
    "version": 3
   },
   "file_extension": ".py",
   "mimetype": "text/x-python",
   "name": "python",
   "nbconvert_exporter": "python",
   "pygments_lexer": "ipython3",
   "version": "3.10.12"
  }
 },
 "nbformat": 4,
 "nbformat_minor": 5
}
