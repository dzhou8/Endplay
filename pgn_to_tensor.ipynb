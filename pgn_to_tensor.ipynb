{
 "cells": [
  {
   "cell_type": "code",
   "execution_count": 1,
   "id": "893fbf4e-3e41-44d3-bfb1-3e6bec551c0d",
   "metadata": {},
   "outputs": [],
   "source": [
    "import chess\n",
    "import chess.pgn\n",
    "import glob\n",
    "import numpy as np\n",
    "\n",
    "def board_to_tensor(board: chess.Board) -> np.ndarray:\n",
    "    tensor = np.zeros((12, 8, 8), dtype=np.uint8)\n",
    "\n",
    "    piece_to_index = {\n",
    "        (chess.PAWN, chess.WHITE): 0,\n",
    "        (chess.KNIGHT, chess.WHITE): 1,\n",
    "        (chess.BISHOP, chess.WHITE): 2,\n",
    "        (chess.ROOK, chess.WHITE): 3,\n",
    "        (chess.QUEEN, chess.WHITE): 4,\n",
    "        (chess.KING, chess.WHITE): 5,\n",
    "        (chess.PAWN, chess.BLACK): 6,\n",
    "        (chess.KNIGHT, chess.BLACK): 7,\n",
    "        (chess.BISHOP, chess.BLACK): 8,\n",
    "        (chess.ROOK, chess.BLACK): 9,\n",
    "        (chess.QUEEN, chess.BLACK): 10,\n",
    "        (chess.KING, chess.BLACK): 11,\n",
    "    }\n",
    "\n",
    "    for square, piece in board.piece_map().items():\n",
    "        row = 7 - chess.square_rank(square) # Flip for correct orientation\n",
    "        col = chess.square_file(square)\n",
    "        idx = piece_to_index[(piece.piece_type, piece.color)]\n",
    "        tensor[idx, row, col] = 1\n",
    "\n",
    "    return tensor\n",
    "\n",
    "def move_to_tensor(move: chess.Move) -> np.ndarray:\n",
    "    start_mask = np.zeros((8, 8), dtype=np.uint8)\n",
    "    end_mask = np.zeros((8, 8), dtype=np.uint8)\n",
    "\n",
    "    start_row = 7 - chess.square_rank(move.from_square)\n",
    "    start_col = chess.square_file(move.from_square)\n",
    "\n",
    "    end_row = 7 - chess.square_rank(move.to_square)\n",
    "    end_col = chess.square_file(move.to_square)\n",
    "\n",
    "    start_mask[start_row, start_col] = 1\n",
    "    end_mask[end_row, end_col] = 1\n",
    "    return np.stack([start_mask, end_mask])"
   ]
  },
  {
   "cell_type": "code",
   "execution_count": 2,
   "id": "447ae348",
   "metadata": {},
   "outputs": [
    {
     "name": "stdout",
     "output_type": "stream",
     "text": [
      "500\n"
     ]
    },
    {
     "name": "stderr",
     "output_type": "stream",
     "text": [
      "no matching legal move for e2e4 (e2 -> e4) in 6k1/4P3/r3R3/4K3/8/8/8/8 b - - 10 64 while parsing <Game at 0x767267a66d70 ('?' vs. '?', '????.??.??' at '?')>\n",
      "illegal san: 'f1' in 8/8/8/8/5b2/8/4Kpk1/5N2 w - - 3 77 while parsing <Game at 0x767267ab8b20 ('?' vs. '?', '????.??.??' at '?')>\n",
      "illegal san: 'ga1' in 8/8/1P6/3k3p/8/4B3/7K/8 w - - 5 63 while parsing <Game at 0x76725eb026b0 ('?' vs. '?', '????.??.??' at '?')>\n",
      "illegal san: 'g1' in 8/8/8/p5P1/1Rk4K/8/8/8 b - - 0 62 while parsing <Game at 0x767267ab8fa0 ('?' vs. '?', '????.??.??' at '?')>\n",
      "no matching legal move for e2e4 (e2 -> e4) in 8/3K4/5P1p/7k/8/3B4/8/8 b - - 0 66 while parsing <Game at 0x76725f5a02e0 ('?' vs. '?', '????.??.??' at '?')>\n",
      "illegal san: 'h2' in 8/7K/4k3/6P1/6r1/8/8/8 w - - 0 85 while parsing <Game at 0x76725eb4e020 ('?' vs. '?', '????.??.??' at '?')>\n"
     ]
    },
    {
     "name": "stdout",
     "output_type": "stream",
     "text": [
      "1000\n"
     ]
    },
    {
     "name": "stderr",
     "output_type": "stream",
     "text": [
      "no matching legal move for e2e4 (e2 -> e4) in 8/K2k4/1P6/8/8/8/8/8 b - - 2 60 while parsing <Game at 0x76725eb4da20 ('?' vs. '?', '????.??.??' at '?')>\n",
      "illegal san: 'g1' in 8/6p1/8/5k1p/7P/6K1/8/8 w - - 0 57 while parsing <Game at 0x76725ff32680 ('?' vs. '?', '????.??.??' at '?')>\n",
      "illegal san: 'g1' in 8/2k5/4K3/1pP5/4B3/8/8/8 b - - 0 60 while parsing <Game at 0x76725f593370 ('?' vs. '?', '????.??.??' at '?')>\n",
      "illegal san: 'ch5' in 8/8/8/8/8/5pk1/6N1/1r4K1 w - - 4 53 while parsing <Game at 0x76725ffbd030 ('?' vs. '?', '????.??.??' at '?')>\n"
     ]
    },
    {
     "name": "stdout",
     "output_type": "stream",
     "text": [
      "1500\n",
      "2000\n"
     ]
    },
    {
     "name": "stderr",
     "output_type": "stream",
     "text": [
      "illegal san: 'Be1' in 5k2/3b4/5K2/8/8/8/1R6/8 b - - 2 73 while parsing <Game at 0x76725f57c040 ('?' vs. '?', '????.??.??' at '?')>\n",
      "illegal san: 'a1' in 8/8/8/8/8/2n1K3/4N1p1/7k w - - 12 93 while parsing <Game at 0x76725eb4ee30 ('?' vs. '?', '????.??.??' at '?')>\n"
     ]
    },
    {
     "name": "stdout",
     "output_type": "stream",
     "text": [
      "2500\n"
     ]
    },
    {
     "name": "stderr",
     "output_type": "stream",
     "text": [
      "illegal san: 'h2' in 8/r3Q2k/5P2/4K3/8/8/8/8 b - - 2 89 while parsing <Game at 0x76725ffbcb50 ('?' vs. '?', '????.??.??' at '?')>\n",
      "no matching legal move for e2e4 (e2 -> e4) in 8/8/8/3r4/8/4R3/2K1pk2/8 w - - 8 106 while parsing <Game at 0x76726438d1e0 ('?' vs. '?', '????.??.??' at '?')>\n",
      "no matching legal move for e2e4 (e2 -> e4) in 8/8/8/8/8/3Kp1k1/2n5/8 w - - 2 69 while parsing <Game at 0x767267ac6e60 ('?' vs. '?', '????.??.??' at '?')>\n",
      "no matching legal move for e2e4 (e2 -> e4) in 8/8/4K3/8/4k1p1/8/7p/5R2 w - - 2 57 while parsing <Game at 0x76725f59d150 ('?' vs. '?', '????.??.??' at '?')>\n"
     ]
    },
    {
     "name": "stdout",
     "output_type": "stream",
     "text": [
      "3000\n"
     ]
    },
    {
     "name": "stderr",
     "output_type": "stream",
     "text": [
      "illegal san: 'a2' in 7R/8/8/8/8/5BK1/8/r4k2 b - - 96 130 while parsing <Game at 0x76726438c1f0 ('?' vs. '?', '????.??.??' at '?')>\n",
      "no matching legal move for e2e4 (e2 -> e4) in 8/6P1/p2k3K/8/8/8/8/2q5 w - - 0 54 while parsing <Game at 0x76725ebd0370 ('?' vs. '?', '????.??.??' at '?')>\n"
     ]
    },
    {
     "name": "stdout",
     "output_type": "stream",
     "text": [
      "3500\n"
     ]
    },
    {
     "name": "stderr",
     "output_type": "stream",
     "text": [
      "illegal san: 'e1' in r7/3RK1P1/2k5/8/8/8/8/8 b - - 2 80 while parsing <Game at 0x767267ae3730 ('?' vs. '?', '????.??.??' at '?')>\n",
      "no matching legal move for e2e4 (e2 -> e4) in 8/2P5/4q3/K7/4k3/8/8/4Q3 b - - 24 86 while parsing <Game at 0x767267ac6e00 ('?' vs. '?', '????.??.??' at '?')>\n",
      "illegal san: 'ba2' in 8/8/8/8/kr6/4K3/p7/3R4 w - - 2 65 while parsing <Game at 0x76725f521db0 ('?' vs. '?', '????.??.??' at '?')>\n",
      "illegal san: 'f1' in 4k3/5p2/2K2P2/4P3/8/8/8/8 b - - 2 78 while parsing <Game at 0x76725eb151e0 ('?' vs. '?', '????.??.??' at '?')>\n",
      "no matching legal move for e2e4 (e2 -> e4) in 8/3k2P1/5K2/5R2/r7/8/8/8 b - - 0 75 while parsing <Game at 0x76725f5eb880 ('?' vs. '?', '????.??.??' at '?')>\n",
      "no matching legal move for e2e4 (e2 -> e4) in 5R2/8/8/4r3/8/3K2k1/6p1/8 w - - 8 73 while parsing <Game at 0x76725f56d0f0 ('?' vs. '?', '????.??.??' at '?')>\n",
      "no matching legal move for e2e4 (e2 -> e4) in 7k/8/4R1KP/8/8/8/8/8 b - - 0 99 while parsing <Game at 0x76726438d000 ('?' vs. '?', '????.??.??' at '?')>\n"
     ]
    },
    {
     "name": "stdout",
     "output_type": "stream",
     "text": [
      "4000\n"
     ]
    },
    {
     "name": "stderr",
     "output_type": "stream",
     "text": [
      "illegal san: 'a1' in 5R2/8/8/6K1/1r6/4k3/4p3/8 w - - 2 59 while parsing <Game at 0x767267b20400 ('?' vs. '?', '????.??.??' at '?')>\n"
     ]
    },
    {
     "name": "stdout",
     "output_type": "stream",
     "text": [
      "4500\n"
     ]
    },
    {
     "name": "stderr",
     "output_type": "stream",
     "text": [
      "no matching legal move for e2e4 (e2 -> e4) in 8/P3k3/1K6/1R6/8/8/8/r7 b - - 2 98 while parsing <Game at 0x7672643ceaa0 ('?' vs. '?', '????.??.??' at '?')>\n"
     ]
    },
    {
     "name": "stdout",
     "output_type": "stream",
     "text": [
      "5000\n"
     ]
    },
    {
     "name": "stderr",
     "output_type": "stream",
     "text": [
      "illegal san: 'Ba1' in 8/8/8/6r1/8/3bk3/8/2R1K3 w - - 14 101 while parsing <Game at 0x76725fff58d0 ('?' vs. '?', '????.??.??' at '?')>\n",
      "no matching legal move for e2e4 (e2 -> e4) in 8/8/8/8/8/5bkn/8/7K w - - 90 99 while parsing <Game at 0x767267a52da0 ('?' vs. '?', '????.??.??' at '?')>\n",
      "illegal san: 'a2' in 8/6K1/8/4k3/7P/8/8/8 b - - 0 77 while parsing <Game at 0x76725ebd3220 ('?' vs. '?', '????.??.??' at '?')>\n"
     ]
    },
    {
     "name": "stdout",
     "output_type": "stream",
     "text": [
      "5500\n"
     ]
    },
    {
     "name": "stderr",
     "output_type": "stream",
     "text": [
      "no matching legal move for e2e4 (e2 -> e4) in 8/8/R7/kPK5/8/8/8/5b2 b - - 0 89 while parsing <Game at 0x76725f561cc0 ('?' vs. '?', '????.??.??' at '?')>\n"
     ]
    },
    {
     "name": "stdout",
     "output_type": "stream",
     "text": [
      "6000\n"
     ]
    },
    {
     "name": "stderr",
     "output_type": "stream",
     "text": [
      "illegal san: 'ha1' in 8/1p6/1P6/8/5K2/8/5k2/8 b - - 0 62 while parsing <Game at 0x76726438d000 ('?' vs. '?', '????.??.??' at '?')>\n",
      "illegal san: 'e1' in 8/8/R7/5r2/8/8/3p2K1/3k4 w - - 4 62 while parsing <Game at 0x76725ebfc8e0 ('?' vs. '?', '????.??.??' at '?')>\n",
      "no matching legal move for e2e4 (e2 -> e4) in 8/8/PN2k3/1K6/8/8/8/6b1 b - - 3 89 while parsing <Game at 0x76725ffbff40 ('?' vs. '?', '????.??.??' at '?')>\n",
      "illegal san: 'a1' in 5r2/4R3/2k5/4K3/5P2/8/8/8 b - - 12 66 while parsing <Game at 0x767267b13d30 ('?' vs. '?', '????.??.??' at '?')>\n",
      "no matching legal move for e2e4 (e2 -> e4) in 1K6/1P6/8/1k6/8/8/R7/6r1 b - - 4 77 while parsing <Game at 0x76725eb2ace0 ('?' vs. '?', '????.??.??' at '?')>\n",
      "no matching legal move for e2e4 (e2 -> e4) in 4B3/8/8/6r1/8/4kp2/8/5K2 w - - 0 78 while parsing <Game at 0x76725eb538b0 ('?' vs. '?', '????.??.??' at '?')>\n",
      "illegal san: 'ha1' in 8/6K1/2k5/6p1/6P1/8/8/8 b - - 1 66 while parsing <Game at 0x7672641bd420 ('?' vs. '?', '????.??.??' at '?')>\n",
      "illegal san: 'f1' in 8/8/8/8/4n2p/7k/8/7K b - - 1 66 while parsing <Game at 0x76725eb8ef50 ('?' vs. '?', '????.??.??' at '?')>\n",
      "illegal san: 'e1' in 8/8/5R2/p4K2/6p1/8/7k/8 b - - 3 59 while parsing <Game at 0x767267a56590 ('?' vs. '?', '????.??.??' at '?')>\n",
      "illegal san: 'f1' in 1k6/8/1K6/2N2B2/8/8/8/8 b - - 54 83 while parsing <Game at 0x76725eb00940 ('?' vs. '?', '????.??.??' at '?')>\n",
      "illegal san: 'b1' in 8/4k3/6p1/4K1N1/5P2/8/8/8 b - - 5 62 while parsing <Game at 0x767267ab0dc0 ('?' vs. '?', '????.??.??' at '?')>\n",
      "illegal san: 'b1' in 8/7K/8/6qP/1k6/8/8/8 w - - 9 74 while parsing <Game at 0x767267aa86a0 ('?' vs. '?', '????.??.??' at '?')>\n"
     ]
    },
    {
     "name": "stdout",
     "output_type": "stream",
     "text": [
      "6500\n",
      "7000\n"
     ]
    },
    {
     "name": "stderr",
     "output_type": "stream",
     "text": [
      "illegal san: 'ha1' in 8/8/8/6p1/8/6k1/8/7K w - - 0 75 while parsing <Game at 0x767267a7c520 ('?' vs. '?', '????.??.??' at '?')>\n"
     ]
    },
    {
     "name": "stdout",
     "output_type": "stream",
     "text": [
      "7500\n"
     ]
    },
    {
     "name": "stderr",
     "output_type": "stream",
     "text": [
      "no matching legal move for e2e4 (e2 -> e4) in 2K5/1P6/2q5/8/8/8/6k1/8 w - - 10 92 while parsing <Game at 0x76725f5ad7b0 ('?' vs. '?', '????.??.??' at '?')>\n"
     ]
    },
    {
     "name": "stdout",
     "output_type": "stream",
     "text": [
      "8000\n"
     ]
    },
    {
     "name": "stderr",
     "output_type": "stream",
     "text": [
      "no matching legal move for e2e4 (e2 -> e4) in 8/P1K1k3/1R6/6r1/8/8/8/8 b - - 0 71 while parsing <Game at 0x767267b2a0e0 ('?' vs. '?', '????.??.??' at '?')>\n",
      "illegal san: 'e1' in 8/2k1K3/1p6/1P6/2P5/8/8/8 b - - 0 58 while parsing <Game at 0x76725eb41e40 ('?' vs. '?', '????.??.??' at '?')>\n",
      "no matching legal move for e2e4 (e2 -> e4) in 8/8/7b/8/8/1k6/p1NK4/8 w - - 2 90 while parsing <Game at 0x767267a79030 ('?' vs. '?', '????.??.??' at '?')>\n",
      "no matching legal move for e2e4 (e2 -> e4) in 8/P2k4/K5R1/8/8/1r6/8/8 b - - 2 61 while parsing <Game at 0x767267ab1ae0 ('?' vs. '?', '????.??.??' at '?')>\n",
      "no matching legal move for e2e4 (e2 -> e4) in 8/8/8/8/8/2n5/1bk5/K7 w - - 35 106 while parsing <Game at 0x76725f56df60 ('?' vs. '?', '????.??.??' at '?')>\n",
      "no matching legal move for e2e4 (e2 -> e4) in 8/8/K7/8/7p/6n1/6k1/6B1 w - - 1 72 while parsing <Game at 0x76725f5ea230 ('?' vs. '?', '????.??.??' at '?')>\n",
      "no matching legal move for e2e4 (e2 -> e4) in 8/5k2/7P/p4K2/P7/8/8/8 b - - 2 91 while parsing <Game at 0x76725f56f250 ('?' vs. '?', '????.??.??' at '?')>\n",
      "no matching legal move for e2e4 (e2 -> e4) in 8/3R2k1/6P1/6K1/8/1b6/8/8 b - - 4 73 while parsing <Game at 0x76725ebd49d0 ('?' vs. '?', '????.??.??' at '?')>\n",
      "illegal san: 'ga1' in 4R3/2P5/4K3/2r5/4k3/8/8/8 b - - 5 66 while parsing <Game at 0x76725f59fa90 ('?' vs. '?', '????.??.??' at '?')>\n",
      "illegal san: 'b1' in 1k6/1P6/K7/8/8/8/8/8 b - - 0 73 while parsing <Game at 0x76725eb1a140 ('?' vs. '?', '????.??.??' at '?')>\n",
      "no matching legal move for e2e4 (e2 -> e4) in 5k2/5P2/4K3/8/8/N7/1p6/8 b - - 0 64 while parsing <Game at 0x767267a67f40 ('?' vs. '?', '????.??.??' at '?')>\n"
     ]
    },
    {
     "name": "stdout",
     "output_type": "stream",
     "text": [
      "8500\n",
      "9000\n"
     ]
    },
    {
     "name": "stderr",
     "output_type": "stream",
     "text": [
      "illegal san: 'a1' in 2R5/8/8/8/8/2K2r2/2p5/2k5 w - - 4 57 while parsing <Game at 0x767267b22590 ('?' vs. '?', '????.??.??' at '?')>\n",
      "illegal san: 'e1' in 8/8/8/5K1k/7p/5p1P/8/8 w - - 0 68 while parsing <Game at 0x76725ff468f0 ('?' vs. '?', '????.??.??' at '?')>\n",
      "illegal san: 'h2' in 8/1k4P1/5K2/8/5R2/8/8/6r1 b - - 4 66 while parsing <Game at 0x76725ff482e0 ('?' vs. '?', '????.??.??' at '?')>\n"
     ]
    },
    {
     "name": "stdout",
     "output_type": "stream",
     "text": [
      "9500\n"
     ]
    },
    {
     "name": "stderr",
     "output_type": "stream",
     "text": [
      "illegal san: 'Be1' in Q7/8/8/4p3/8/4K3/8/6k1 b - - 1 78 while parsing <Game at 0x76725e177ee0 ('?' vs. '?', '????.??.??' at '?')>\n",
      "illegal san: 'Ba1' in 8/7r/1R6/8/8/5K2/6p1/6k1 b - - 3 74 while parsing <Game at 0x76725ebf4b80 ('?' vs. '?', '????.??.??' at '?')>\n"
     ]
    },
    {
     "name": "stdout",
     "output_type": "stream",
     "text": [
      "10000\n"
     ]
    },
    {
     "name": "stderr",
     "output_type": "stream",
     "text": [
      "no matching legal move for e2e4 (e2 -> e4) in 4R3/8/8/4r3/4k3/8/4p2K/8 w - - 16 102 while parsing <Game at 0x76725eb6efe0 ('?' vs. '?', '????.??.??' at '?')>\n",
      "illegal san: 'e1' in 8/7p/8/1N6/4K3/8/pk6/8 w - - 4 69 while parsing <Game at 0x767267abed70 ('?' vs. '?', '????.??.??' at '?')>\n",
      "illegal san: 'a1' in 2R5/1K6/8/8/4p3/5k2/8/5q2 w - - 0 54 while parsing <Game at 0x76725e182680 ('?' vs. '?', '????.??.??' at '?')>\n"
     ]
    },
    {
     "name": "stdout",
     "output_type": "stream",
     "text": [
      "10500\n",
      "11000\n"
     ]
    },
    {
     "name": "stderr",
     "output_type": "stream",
     "text": [
      "illegal san: 'a1' in 8/8/1b6/8/8/4k1pp/8/7K w - - 0 70 while parsing <Game at 0x76725e1472b0 ('?' vs. '?', '????.??.??' at '?')>\n"
     ]
    },
    {
     "name": "stdout",
     "output_type": "stream",
     "text": [
      "11500\n"
     ]
    },
    {
     "name": "stderr",
     "output_type": "stream",
     "text": [
      "illegal san: 'a1' in 8/8/8/3k4/3r2P1/4RK2/8/8 b - - 0 53 while parsing <Game at 0x76725f563100 ('?' vs. '?', '????.??.??' at '?')>\n",
      "no matching legal move for e2e4 (e2 -> e4) in R7/5k1P/8/8/5K2/8/8/6r1 b - - 2 65 while parsing <Game at 0x76725ff469b0 ('?' vs. '?', '????.??.??' at '?')>\n",
      "illegal san: 'e1' in 8/8/8/6pN/1K1k2B1/8/8/8 b - - 5 92 while parsing <Game at 0x76725eb28f70 ('?' vs. '?', '????.??.??' at '?')>\n"
     ]
    },
    {
     "name": "stdout",
     "output_type": "stream",
     "text": [
      "12000\n"
     ]
    },
    {
     "name": "stderr",
     "output_type": "stream",
     "text": [
      "illegal san: 'a1' in 8/8/8/n2B4/5k2/2K5/6P1/8 b - - 5 59 while parsing <Game at 0x76725ffbc040 ('?' vs. '?', '????.??.??' at '?')>\n",
      "no matching legal move for e2e4 (e2 -> e4) in 5k2/5N1P/6K1/8/8/8/8/8 b - - 0 113 while parsing <Game at 0x76725f51be80 ('?' vs. '?', '????.??.??' at '?')>\n"
     ]
    },
    {
     "name": "stdout",
     "output_type": "stream",
     "text": [
      "12500\n"
     ]
    },
    {
     "name": "stderr",
     "output_type": "stream",
     "text": [
      "illegal san: 'ha1' in 8/2K5/P3R3/6k1/8/8/r7/8 b - - 6 68 while parsing <Game at 0x76725ff47ca0 ('?' vs. '?', '????.??.??' at '?')>\n"
     ]
    },
    {
     "name": "stdout",
     "output_type": "stream",
     "text": [
      "12904 6095\n"
     ]
    }
   ],
   "source": [
    "from stockfish import Stockfish\n",
    "stockfish = Stockfish(path=\"./stockfish-ubuntu-x86-64-avx2\")\n",
    "\n",
    "path = 'data/5_less.pgn'\n",
    "\n",
    "num_games = 0\n",
    "endplay_games = 0\n",
    "\n",
    "inputs = []\n",
    "outputs = []\n",
    "\n",
    "for filepath in glob.glob(path):\n",
    "    with open(filepath, encoding=\"utf-8\", errors=\"ignore\") as file:\n",
    "        while(True):\n",
    "            game = chess.pgn.read_game(file)\n",
    "            if game is None:\n",
    "                break\n",
    "            num_games += 1\n",
    "            if (num_games % 500) == 0:\n",
    "                print(num_games)\n",
    "            final_board = game.end().board()\n",
    "            # display(final_board)\n",
    "            num_pieces = len(final_board.piece_map())\n",
    "            if (game.headers[\"Result\"] == \"1-0\"): # just look at white wins for now, as convention\n",
    "                end_node = game.end()\n",
    "                node = end_node\n",
    "                for _ in range(5): # go back 5 plies\n",
    "                    node = node.parent\n",
    "                if node.board().turn == chess.WHITE:\n",
    "                    node = node.parent\n",
    "                # display(node.board())\n",
    "                stockfish.set_fen_position(node.board().fen())\n",
    "                evaluation = stockfish.get_evaluation()\n",
    "                # print(stockfish.get_evaluation())\n",
    "                if ((evaluation['type'] == 'cp') and (evaluation['value']) > 300) or ((evaluation['type'] == \"mate\") and (evaluation['value'] > 0)): # white is winning\n",
    "                    x = board_to_tensor(node.board())\n",
    "                    y = move_to_tensor(node.move)\n",
    "                    inputs.append(x)\n",
    "                    outputs.append(y)\n",
    "                    endplay_games += 1\n",
    "\n",
    "print(num_games, endplay_games)"
   ]
  },
  {
   "cell_type": "code",
   "execution_count": 3,
   "id": "dfff5b99",
   "metadata": {},
   "outputs": [],
   "source": [
    "X = np.stack(inputs)\n",
    "Y = np.stack(outputs)\n",
    "\n",
    "np.savez_compressed(\"data/5_less_tensor.npz\", inputs=X, outputs=Y)"
   ]
  },
  {
   "cell_type": "code",
   "execution_count": null,
   "id": "8bce91c4",
   "metadata": {},
   "outputs": [],
   "source": []
  }
 ],
 "metadata": {
  "kernelspec": {
   "display_name": "Python 3 (ipykernel)",
   "language": "python",
   "name": "python3"
  },
  "language_info": {
   "codemirror_mode": {
    "name": "ipython",
    "version": 3
   },
   "file_extension": ".py",
   "mimetype": "text/x-python",
   "name": "python",
   "nbconvert_exporter": "python",
   "pygments_lexer": "ipython3",
   "version": "3.10.12"
  }
 },
 "nbformat": 4,
 "nbformat_minor": 5
}
