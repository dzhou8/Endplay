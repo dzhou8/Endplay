{
 "cells": [
  {
   "cell_type": "code",
   "execution_count": 7,
   "id": "893fbf4e-3e41-44d3-bfb1-3e6bec551c0d",
   "metadata": {},
   "outputs": [
    {
     "name": "stderr",
     "output_type": "stream",
     "text": [
      "illegal san: 'e1' in r7/3RK1P1/2k5/8/8/8/8/8 b - - 2 80 while parsing <Game at 0x73d306b35c90 ('?' vs. '?', '????.??.??' at '?')>\n",
      "no matching legal move for e2e4 (e2 -> e4) in 8/2P5/4q3/K7/4k3/8/8/4Q3 b - - 24 86 while parsing <Game at 0x73d307fa2800 ('?' vs. '?', '????.??.??' at '?')>\n",
      "illegal san: 'ba2' in 8/8/8/8/kr6/4K3/p7/3R4 w - - 2 65 while parsing <Game at 0x73d304178880 ('?' vs. '?', '????.??.??' at '?')>\n",
      "illegal san: 'f1' in 4k3/5p2/2K2P2/4P3/8/8/8/8 b - - 2 78 while parsing <Game at 0x73d3041291e0 ('?' vs. '?', '????.??.??' at '?')>\n",
      "no matching legal move for e2e4 (e2 -> e4) in 8/3k2P1/5K2/5R2/r7/8/8/8 b - - 0 75 while parsing <Game at 0x73d3041b4490 ('?' vs. '?', '????.??.??' at '?')>\n",
      "no matching legal move for e2e4 (e2 -> e4) in 5R2/8/8/4r3/8/3K2k1/6p1/8 w - - 8 73 while parsing <Game at 0x73d3075c1d20 ('?' vs. '?', '????.??.??' at '?')>\n",
      "no matching legal move for e2e4 (e2 -> e4) in 7k/8/4R1KP/8/8/8/8/8 b - - 0 99 while parsing <Game at 0x73d3163af100 ('?' vs. '?', '????.??.??' at '?')>\n"
     ]
    }
   ],
   "source": [
    "import chess\n",
    "import chess.pgn\n",
    "import glob\n",
    "import numpy as np\n",
    "\n",
    "from stockfish import Stockfish\n",
    "stockfish = Stockfish(path=\"./stockfish-ubuntu-x86-64-avx2\")\n",
    "\n",
    "path = 'data/5_less.pgn'\n",
    "\n",
    "num_games = 0\n",
    "endplay_games = 0\n",
    "\n",
    "for filepath in glob.glob(path):\n",
    "    with open(filepath, encoding=\"utf-8\", errors=\"ignore\") as file:\n",
    "        while(True):\n",
    "            game = chess.pgn.read_game(file)\n",
    "            if game is None:\n",
    "                break\n",
    "            num_games += 1\n",
    "            final_board = game.end().board()\n",
    "            # display(final_board)\n",
    "            num_pieces = len(final_board.piece_map())\n",
    "            if (game.headers[\"Result\"] == \"1-0\"): # just look at white wins for now, as convention\n",
    "                end_node = game.end()\n",
    "                node = end_node\n",
    "                for _ in range(5): # go back 5 plies\n",
    "                    node = node.parent\n",
    "                if node.board().turn == chess.WHITE:\n",
    "                    node = node.parent\n",
    "                # display(node.board())\n",
    "                stockfish.set_fen_position(node.board().fen())\n",
    "                evaluation = stockfish.get_evaluation()\n",
    "                # print(stockfish.get_evaluation())\n",
    "                if ((evaluation['type'] == 'cp') and (evaluation['value']) > 300) or ((evaluation['type'] == \"mate\") and (evaluation['value'] > 0)): # white is winning\n",
    "                    endplay_games += 1\n",
    "\n",
    "print(num_games, endplay_games)"
   ]
  },
  {
   "cell_type": "code",
   "execution_count": null,
   "id": "447ae348",
   "metadata": {},
   "outputs": [],
   "source": []
  },
  {
   "cell_type": "code",
   "execution_count": null,
   "id": "7c57fa34",
   "metadata": {},
   "outputs": [],
   "source": []
  }
 ],
 "metadata": {
  "kernelspec": {
   "display_name": "Python 3 (ipykernel)",
   "language": "python",
   "name": "python3"
  },
  "language_info": {
   "codemirror_mode": {
    "name": "ipython",
    "version": 3
   },
   "file_extension": ".py",
   "mimetype": "text/x-python",
   "name": "python",
   "nbconvert_exporter": "python",
   "pygments_lexer": "ipython3",
   "version": "3.10.12"
  }
 },
 "nbformat": 4,
 "nbformat_minor": 5
}
