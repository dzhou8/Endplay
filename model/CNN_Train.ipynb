{
 "cells": [
  {
   "cell_type": "markdown",
   "id": "beea2691-ff3c-418e-979e-b99cdcfaccf6",
   "metadata": {},
   "source": [
    "Step 1: Train/Test Split"
   ]
  },
  {
   "cell_type": "code",
   "execution_count": null,
   "id": "03b6e3f4-09ce-43e4-904a-a9dee978e8f1",
   "metadata": {},
   "outputs": [],
   "source": [
    "import numpy as np\n",
    "from sklearn.model_selection import train_test_split\n",
    "\n",
    "import sys\n",
    "sys.path.insert(1, \"../benchmarks\")\n",
    "import bm_utils\n",
    "\n",
    "paths = [\"../preprocessing/tensors/2023_6less.npz\",\n",
    "         \"../preprocessing/tensors/2024_6less.npz\"]\n",
    "X_train, X_test, Y_train, Y_test = bm_utils.load_dataset(paths, test_size=0.05, random_state=42)\n",
    "print(len(X_train), len(X_test))"
   ]
  },
  {
   "cell_type": "markdown",
   "id": "ddd5886b-04c3-4907-8423-24913c674a74",
   "metadata": {},
   "source": [
    "Step 2: CNN Architecture (Pytorch)"
   ]
  },
  {
   "cell_type": "code",
   "execution_count": null,
   "id": "c0adefcc-c887-48f2-a492-a2ae7e3c81f7",
   "metadata": {},
   "outputs": [],
   "source": [
    "import torch\n",
    "import torch.nn as nn\n",
    "from DeepNet import ChessMoveCNN # see ChessMoveCNN.py"
   ]
  },
  {
   "cell_type": "markdown",
   "id": "5f1a3ab7-ca3d-4bd4-9202-ecff8247a395",
   "metadata": {},
   "source": [
    "Step 3: Loss Function and Training Setup"
   ]
  },
  {
   "cell_type": "code",
   "execution_count": null,
   "id": "e65df48e-c96d-445c-8f1f-635248b71475",
   "metadata": {},
   "outputs": [],
   "source": [
    "from torch.utils.data import TensorDataset, DataLoader\n",
    "import torch.optim as optim\n",
    "from torch.optim.lr_scheduler import ReduceLROnPlateau\n",
    "\n",
    "train_ds = TensorDataset(torch.tensor(X_train, dtype=torch.float32), torch.tensor(Y_train, dtype=torch.float32))\n",
    "test_ds  = TensorDataset(torch.tensor(X_test, dtype=torch.float32), torch.tensor(Y_test, dtype=torch.float32))\n",
    "\n",
    "train_loader = DataLoader(train_ds, batch_size=64, shuffle=True)\n",
    "test_loader  = DataLoader(test_ds, batch_size=64)\n",
    "\n",
    "device = torch.device(\"cuda\" if torch.cuda.is_available() else \"cpu\")\n",
    "print(device)\n",
    "model = ChessMoveCNN().to(device)\n",
    "loss_fn = nn.BCEWithLogitsLoss()\n",
    "optimizer = optim.AdamW(model.parameters(), lr=1e-3, weight_decay=1e-3)\n",
    "scheduler = ReduceLROnPlateau(optimizer, mode='min', factor=0.5, patience=3)"
   ]
  },
  {
   "cell_type": "markdown",
   "id": "42000309-b8ce-4cf8-9be9-a7ca0472e0d5",
   "metadata": {},
   "source": [
    "Step 4: Training Loop"
   ]
  },
  {
   "cell_type": "code",
   "execution_count": null,
   "id": "4ab8cc34-7994-46d3-9874-b9f4a231b125",
   "metadata": {},
   "outputs": [],
   "source": [
    "best_loss = float('inf')\n",
    "\n",
    "train_losses = []\n",
    "test_losses = []\n",
    "epochs = 8\n",
    "\n",
    "for epoch in range(epochs):\n",
    "    model.train()\n",
    "    total_train_loss = 0\n",
    "    model.to(device)\n",
    "\n",
    "    for xb, yb in train_loader:\n",
    "        xb, yb = xb.to(device), yb.to(device)\n",
    "        optimizer.zero_grad()\n",
    "        preds = model(xb)\n",
    "        loss = loss_fn(preds, yb)\n",
    "        loss.backward()\n",
    "        optimizer.step()\n",
    "        total_train_loss += loss.item()\n",
    "\n",
    "    avg_train_loss = total_train_loss / len(train_loader)\n",
    "    train_losses.append(avg_train_loss)\n",
    "\n",
    "    # Evaluation\n",
    "    model.eval()\n",
    "    total_test_loss = 0\n",
    "\n",
    "    with torch.no_grad():\n",
    "        for xb, yb in test_loader:\n",
    "            xb, yb = xb.to(device), yb.to(device)\n",
    "            preds = model(xb)\n",
    "            loss = loss_fn(preds, yb)\n",
    "            total_test_loss += loss.item()\n",
    "\n",
    "    avg_test_loss = total_test_loss / len(test_loader)\n",
    "    test_losses.append(avg_test_loss)\n",
    "\n",
    "    scheduler.step(avg_test_loss)\n",
    "\n",
    "    if avg_test_loss < best_loss:\n",
    "        best_loss = avg_test_loss\n",
    "        model_cpu = model.cpu()\n",
    "        torch.save(model_cpu.state_dict(), \"DeepNet.pt\")\n",
    "\n",
    "    print(f\"Epoch {epoch+1}/{epochs} - Train Loss: {avg_train_loss:.4f} - Test Loss: {avg_test_loss:.4f}\")"
   ]
  },
  {
   "cell_type": "code",
   "execution_count": null,
   "id": "2ab6d086",
   "metadata": {},
   "outputs": [],
   "source": [
    "model.load_state_dict(torch.load(\"DeepNet.pt\", map_location=torch.device('cpu')))\n",
    "model.to('cpu')\n",
    "print(next(model.parameters()).device)"
   ]
  },
  {
   "cell_type": "markdown",
   "id": "e077eade-fc30-4dcb-8565-20a000a39740",
   "metadata": {},
   "source": [
    "Step 5: Loss Plotting and Test Case Visualization"
   ]
  },
  {
   "cell_type": "code",
   "execution_count": null,
   "id": "6059c009-74d2-4a3d-b59d-a2b278be6583",
   "metadata": {},
   "outputs": [],
   "source": [
    "import matplotlib.pyplot as plt\n",
    "\n",
    "plt.plot(train_losses, label=\"Train Loss\")\n",
    "plt.plot(test_losses, label=\"Test Loss\")\n",
    "plt.xlabel(\"Epoch\")\n",
    "plt.ylabel(\"Loss\")\n",
    "plt.legend()\n",
    "plt.title(\"Training and Test Loss\")\n",
    "plt.show()\n",
    "\n",
    "import sys\n",
    "sys.path.insert(1, \"../preprocessing\")\n",
    "import utils\n",
    "\n",
    "# Pick a test sample\n",
    "idx = np.random.randint(len(X_test))\n",
    "x = torch.tensor(X_test[idx:idx+1], dtype=torch.float32).to('cpu')\n",
    "y_pred = model(x)[0]  # shape: (2, 8, 8)\n",
    "\n",
    "board = utils.tensor_to_board(X_test[idx])\n",
    "display(board)\n",
    "top5_moves = model.get_top_moves(board, 5)\n",
    "\n",
    "print(\"Top 5 predicted moves:\")\n",
    "for move, score in top5_moves:\n",
    "    print(f\"{move.uci()}: {score:.4f}\")\n",
    "\n",
    "y_true = Y_test[idx]  # shape: (2, 8, 8)\n",
    "# Find the '1' (or highest value) in the start plane and end plane\n",
    "start_idx = np.argmax(y_true[0].flatten()) \n",
    "end_idx   = np.argmax(y_true[1].flatten()) \n",
    "\n",
    "# Convert to square names just like the predicted moves\n",
    "import chess\n",
    "start_sq = chess.square_name(start_idx)\n",
    "end_sq   = chess.square_name(end_idx)\n",
    "true_uci = f\"{start_sq}{end_sq}\"\n",
    "\n",
    "print(\"\\nGround Truth Move:\", true_uci)"
   ]
  },
  {
   "cell_type": "code",
   "execution_count": null,
   "id": "64915318",
   "metadata": {},
   "outputs": [],
   "source": [
    "# New cell to compute and plot Top-1 and Top-5 Accuracy\n",
    "import matplotlib.pyplot as plt\n",
    "from tqdm import tqdm\n",
    "\n",
    "top1_correct = 0\n",
    "top5_correct = 0\n",
    "num_samples = len(X_test)\n",
    "\n",
    "for i in tqdm(range(num_samples)):\n",
    "    # Model prediction\n",
    "    x = torch.tensor(X_test[i:i+1], dtype=torch.float32).to('cpu')\n",
    "    y_pred = model(x)[0]  # shape: (2, 8, 8)\n",
    "\n",
    "    # Ground-truth move (assuming y_test has shape [N, 2, 8, 8])\n",
    "    y_true = Y_test[i]\n",
    "    start_idx = np.argmax(y_true[0].flatten())  # index 0..63\n",
    "    end_idx   = np.argmax(y_true[1].flatten())  # index 0..63\n",
    "\n",
    "    # Get predicted top-5 moves\n",
    "    # (start_str, end_str, uci_str, score)\n",
    "    board = utils.tensor_to_board(x[0])\n",
    "    top5_moves = model.get_top_moves(board, 5)\n",
    "\n",
    "    # Check if Top-1 matches ground truth\n",
    "    top1_move = top5_moves[0][0]\n",
    "    if top1_move.from_square == start_idx and top1_move.to_square == end_idx:\n",
    "        top1_correct += 1\n",
    "\n",
    "    # Check if ground truth is in Top-5\n",
    "    for (move, score) in top5_moves:\n",
    "        if move.from_square == start_idx and move.to_square == end_idx:\n",
    "            top5_correct += 1\n",
    "            break\n",
    "\n",
    "top1_accuracy = top1_correct / num_samples\n",
    "top5_accuracy = top5_correct / num_samples\n",
    "\n",
    "print(f\"Top-1 Accuracy: {top1_accuracy:.3f}\")\n",
    "print(f\"Top-5 Accuracy: {top5_accuracy:.3f}\")\n",
    "\n",
    "# Plot as a simple bar chart\n",
    "plt.bar([\"Top1\", \"Top5\"], [top1_accuracy, top5_accuracy])\n",
    "plt.ylim(0, 1)\n",
    "plt.title(\"Move Prediction Accuracy\")\n",
    "plt.show()"
   ]
  },
  {
   "cell_type": "code",
   "execution_count": null,
   "id": "f6eef2fa",
   "metadata": {},
   "outputs": [],
   "source": []
  }
 ],
 "metadata": {
  "kernelspec": {
   "display_name": "Python 3 (ipykernel)",
   "language": "python",
   "name": "python3"
  },
  "language_info": {
   "codemirror_mode": {
    "name": "ipython",
    "version": 3
   },
   "file_extension": ".py",
   "mimetype": "text/x-python",
   "name": "python",
   "nbconvert_exporter": "python",
   "pygments_lexer": "ipython3",
   "version": "3.10.12"
  }
 },
 "nbformat": 4,
 "nbformat_minor": 5
}
